{
 "cells": [
  {
   "cell_type": "code",
   "execution_count": 1,
   "id": "fc731d2d",
   "metadata": {},
   "outputs": [
    {
     "name": "stderr",
     "output_type": "stream",
     "text": [
      "C:\\Users\\Crystal\\anaconda3\\lib\\site-packages\\scipy\\__init__.py:146: UserWarning: A NumPy version >=1.16.5 and <1.23.0 is required for this version of SciPy (detected version 1.24.3\n",
      "  warnings.warn(f\"A NumPy version >={np_minversion} and <{np_maxversion}\"\n"
     ]
    }
   ],
   "source": [
    "import pandas as pd\n",
    "import numpy as np\n",
    "import seaborn as sns\n",
    "import matplotlib.pyplot as plt\n",
    "from sklearn.pipeline import Pipeline\n",
    "from sklearn.impute import SimpleImputer\n",
    "from sklearn.preprocessing import StandardScaler, OneHotEncoder\n",
    "import warnings"
   ]
  },
  {
   "cell_type": "code",
   "execution_count": 2,
   "id": "333f5c9d",
   "metadata": {},
   "outputs": [
    {
     "data": {
      "text/html": [
       "<div>\n",
       "<style scoped>\n",
       "    .dataframe tbody tr th:only-of-type {\n",
       "        vertical-align: middle;\n",
       "    }\n",
       "\n",
       "    .dataframe tbody tr th {\n",
       "        vertical-align: top;\n",
       "    }\n",
       "\n",
       "    .dataframe thead th {\n",
       "        text-align: right;\n",
       "    }\n",
       "</style>\n",
       "<table border=\"1\" class=\"dataframe\">\n",
       "  <thead>\n",
       "    <tr style=\"text-align: right;\">\n",
       "      <th></th>\n",
       "      <th>Company</th>\n",
       "      <th>TypeName</th>\n",
       "      <th>Ram</th>\n",
       "      <th>Weight</th>\n",
       "      <th>Price</th>\n",
       "      <th>TouchScreen</th>\n",
       "      <th>Ips</th>\n",
       "      <th>ppi</th>\n",
       "      <th>Cpu Brand</th>\n",
       "      <th>HDD</th>\n",
       "      <th>SSD</th>\n",
       "      <th>Hybrid</th>\n",
       "      <th>Flash_Storage</th>\n",
       "      <th>Gpu brand</th>\n",
       "      <th>os</th>\n",
       "    </tr>\n",
       "  </thead>\n",
       "  <tbody>\n",
       "    <tr>\n",
       "      <th>0</th>\n",
       "      <td>Apple</td>\n",
       "      <td>Ultrabook</td>\n",
       "      <td>8</td>\n",
       "      <td>1.37</td>\n",
       "      <td>71378.6832</td>\n",
       "      <td>0</td>\n",
       "      <td>1</td>\n",
       "      <td>226.983005</td>\n",
       "      <td>Intel Core i5</td>\n",
       "      <td>0</td>\n",
       "      <td>128</td>\n",
       "      <td>0</td>\n",
       "      <td>0</td>\n",
       "      <td>Intel</td>\n",
       "      <td>Mac</td>\n",
       "    </tr>\n",
       "    <tr>\n",
       "      <th>1</th>\n",
       "      <td>Apple</td>\n",
       "      <td>Ultrabook</td>\n",
       "      <td>8</td>\n",
       "      <td>1.34</td>\n",
       "      <td>47895.5232</td>\n",
       "      <td>0</td>\n",
       "      <td>0</td>\n",
       "      <td>127.677940</td>\n",
       "      <td>Intel Core i5</td>\n",
       "      <td>0</td>\n",
       "      <td>0</td>\n",
       "      <td>0</td>\n",
       "      <td>128</td>\n",
       "      <td>Intel</td>\n",
       "      <td>Mac</td>\n",
       "    </tr>\n",
       "    <tr>\n",
       "      <th>2</th>\n",
       "      <td>HP</td>\n",
       "      <td>Notebook</td>\n",
       "      <td>8</td>\n",
       "      <td>1.86</td>\n",
       "      <td>30636.0000</td>\n",
       "      <td>0</td>\n",
       "      <td>0</td>\n",
       "      <td>141.211998</td>\n",
       "      <td>Intel Core i5</td>\n",
       "      <td>0</td>\n",
       "      <td>256</td>\n",
       "      <td>0</td>\n",
       "      <td>0</td>\n",
       "      <td>Intel</td>\n",
       "      <td>Others/No Os/Linux</td>\n",
       "    </tr>\n",
       "    <tr>\n",
       "      <th>3</th>\n",
       "      <td>Apple</td>\n",
       "      <td>Ultrabook</td>\n",
       "      <td>16</td>\n",
       "      <td>1.83</td>\n",
       "      <td>135195.3360</td>\n",
       "      <td>0</td>\n",
       "      <td>1</td>\n",
       "      <td>220.534624</td>\n",
       "      <td>Intel Core i7</td>\n",
       "      <td>0</td>\n",
       "      <td>512</td>\n",
       "      <td>0</td>\n",
       "      <td>0</td>\n",
       "      <td>AMD</td>\n",
       "      <td>Mac</td>\n",
       "    </tr>\n",
       "    <tr>\n",
       "      <th>4</th>\n",
       "      <td>Apple</td>\n",
       "      <td>Ultrabook</td>\n",
       "      <td>8</td>\n",
       "      <td>1.37</td>\n",
       "      <td>96095.8080</td>\n",
       "      <td>0</td>\n",
       "      <td>1</td>\n",
       "      <td>226.983005</td>\n",
       "      <td>Intel Core i5</td>\n",
       "      <td>0</td>\n",
       "      <td>256</td>\n",
       "      <td>0</td>\n",
       "      <td>0</td>\n",
       "      <td>Intel</td>\n",
       "      <td>Mac</td>\n",
       "    </tr>\n",
       "  </tbody>\n",
       "</table>\n",
       "</div>"
      ],
      "text/plain": [
       "  Company   TypeName  Ram  Weight        Price  TouchScreen  Ips         ppi  \\\n",
       "0   Apple  Ultrabook    8    1.37   71378.6832            0    1  226.983005   \n",
       "1   Apple  Ultrabook    8    1.34   47895.5232            0    0  127.677940   \n",
       "2      HP   Notebook    8    1.86   30636.0000            0    0  141.211998   \n",
       "3   Apple  Ultrabook   16    1.83  135195.3360            0    1  220.534624   \n",
       "4   Apple  Ultrabook    8    1.37   96095.8080            0    1  226.983005   \n",
       "\n",
       "       Cpu Brand  HDD  SSD  Hybrid  Flash_Storage Gpu brand  \\\n",
       "0  Intel Core i5    0  128       0              0     Intel   \n",
       "1  Intel Core i5    0    0       0            128     Intel   \n",
       "2  Intel Core i5    0  256       0              0     Intel   \n",
       "3  Intel Core i7    0  512       0              0       AMD   \n",
       "4  Intel Core i5    0  256       0              0     Intel   \n",
       "\n",
       "                   os  \n",
       "0                 Mac  \n",
       "1                 Mac  \n",
       "2  Others/No Os/Linux  \n",
       "3                 Mac  \n",
       "4                 Mac  "
      ]
     },
     "execution_count": 2,
     "metadata": {},
     "output_type": "execute_result"
    }
   ],
   "source": [
    "df = pd.read_csv(\"laptop_final.csv\")\n",
    "df.head()"
   ]
  },
  {
   "cell_type": "code",
   "execution_count": 3,
   "id": "8db5222e",
   "metadata": {},
   "outputs": [
    {
     "data": {
      "text/html": [
       "<div>\n",
       "<style scoped>\n",
       "    .dataframe tbody tr th:only-of-type {\n",
       "        vertical-align: middle;\n",
       "    }\n",
       "\n",
       "    .dataframe tbody tr th {\n",
       "        vertical-align: top;\n",
       "    }\n",
       "\n",
       "    .dataframe thead th {\n",
       "        text-align: right;\n",
       "    }\n",
       "</style>\n",
       "<table border=\"1\" class=\"dataframe\">\n",
       "  <thead>\n",
       "    <tr style=\"text-align: right;\">\n",
       "      <th></th>\n",
       "      <th>Company</th>\n",
       "      <th>TypeName</th>\n",
       "      <th>Ram</th>\n",
       "      <th>Weight</th>\n",
       "      <th>Price</th>\n",
       "      <th>TouchScreen</th>\n",
       "      <th>Ips</th>\n",
       "      <th>ppi</th>\n",
       "      <th>Cpu Brand</th>\n",
       "      <th>HDD</th>\n",
       "      <th>SSD</th>\n",
       "      <th>Hybrid</th>\n",
       "      <th>Flash_Storage</th>\n",
       "      <th>Gpu brand</th>\n",
       "      <th>os</th>\n",
       "    </tr>\n",
       "  </thead>\n",
       "  <tbody>\n",
       "    <tr>\n",
       "      <th>0</th>\n",
       "      <td>Apple</td>\n",
       "      <td>Ultrabook</td>\n",
       "      <td>8</td>\n",
       "      <td>1.37</td>\n",
       "      <td>71378.6832</td>\n",
       "      <td>0</td>\n",
       "      <td>1</td>\n",
       "      <td>226.983005</td>\n",
       "      <td>Intel Core i5</td>\n",
       "      <td>0</td>\n",
       "      <td>128</td>\n",
       "      <td>0</td>\n",
       "      <td>0</td>\n",
       "      <td>Intel</td>\n",
       "      <td>Mac</td>\n",
       "    </tr>\n",
       "    <tr>\n",
       "      <th>1</th>\n",
       "      <td>Apple</td>\n",
       "      <td>Ultrabook</td>\n",
       "      <td>8</td>\n",
       "      <td>1.34</td>\n",
       "      <td>47895.5232</td>\n",
       "      <td>0</td>\n",
       "      <td>0</td>\n",
       "      <td>127.677940</td>\n",
       "      <td>Intel Core i5</td>\n",
       "      <td>0</td>\n",
       "      <td>0</td>\n",
       "      <td>0</td>\n",
       "      <td>128</td>\n",
       "      <td>Intel</td>\n",
       "      <td>Mac</td>\n",
       "    </tr>\n",
       "    <tr>\n",
       "      <th>2</th>\n",
       "      <td>HP</td>\n",
       "      <td>Notebook</td>\n",
       "      <td>8</td>\n",
       "      <td>1.86</td>\n",
       "      <td>30636.0000</td>\n",
       "      <td>0</td>\n",
       "      <td>0</td>\n",
       "      <td>141.211998</td>\n",
       "      <td>Intel Core i5</td>\n",
       "      <td>0</td>\n",
       "      <td>256</td>\n",
       "      <td>0</td>\n",
       "      <td>0</td>\n",
       "      <td>Intel</td>\n",
       "      <td>Others/No Os/Linux</td>\n",
       "    </tr>\n",
       "    <tr>\n",
       "      <th>3</th>\n",
       "      <td>Apple</td>\n",
       "      <td>Ultrabook</td>\n",
       "      <td>16</td>\n",
       "      <td>1.83</td>\n",
       "      <td>135195.3360</td>\n",
       "      <td>0</td>\n",
       "      <td>1</td>\n",
       "      <td>220.534624</td>\n",
       "      <td>Intel Core i7</td>\n",
       "      <td>0</td>\n",
       "      <td>512</td>\n",
       "      <td>0</td>\n",
       "      <td>0</td>\n",
       "      <td>AMD</td>\n",
       "      <td>Mac</td>\n",
       "    </tr>\n",
       "    <tr>\n",
       "      <th>4</th>\n",
       "      <td>Apple</td>\n",
       "      <td>Ultrabook</td>\n",
       "      <td>8</td>\n",
       "      <td>1.37</td>\n",
       "      <td>96095.8080</td>\n",
       "      <td>0</td>\n",
       "      <td>1</td>\n",
       "      <td>226.983005</td>\n",
       "      <td>Intel Core i5</td>\n",
       "      <td>0</td>\n",
       "      <td>256</td>\n",
       "      <td>0</td>\n",
       "      <td>0</td>\n",
       "      <td>Intel</td>\n",
       "      <td>Mac</td>\n",
       "    </tr>\n",
       "    <tr>\n",
       "      <th>...</th>\n",
       "      <td>...</td>\n",
       "      <td>...</td>\n",
       "      <td>...</td>\n",
       "      <td>...</td>\n",
       "      <td>...</td>\n",
       "      <td>...</td>\n",
       "      <td>...</td>\n",
       "      <td>...</td>\n",
       "      <td>...</td>\n",
       "      <td>...</td>\n",
       "      <td>...</td>\n",
       "      <td>...</td>\n",
       "      <td>...</td>\n",
       "      <td>...</td>\n",
       "      <td>...</td>\n",
       "    </tr>\n",
       "    <tr>\n",
       "      <th>1297</th>\n",
       "      <td>Lenovo</td>\n",
       "      <td>2 in 1 Convertible</td>\n",
       "      <td>4</td>\n",
       "      <td>1.80</td>\n",
       "      <td>33992.6400</td>\n",
       "      <td>1</td>\n",
       "      <td>1</td>\n",
       "      <td>157.350512</td>\n",
       "      <td>Intel Core i7</td>\n",
       "      <td>0</td>\n",
       "      <td>128</td>\n",
       "      <td>0</td>\n",
       "      <td>0</td>\n",
       "      <td>Intel</td>\n",
       "      <td>Windows</td>\n",
       "    </tr>\n",
       "    <tr>\n",
       "      <th>1298</th>\n",
       "      <td>Lenovo</td>\n",
       "      <td>2 in 1 Convertible</td>\n",
       "      <td>16</td>\n",
       "      <td>1.30</td>\n",
       "      <td>79866.7200</td>\n",
       "      <td>1</td>\n",
       "      <td>1</td>\n",
       "      <td>276.053530</td>\n",
       "      <td>Intel Core i7</td>\n",
       "      <td>0</td>\n",
       "      <td>512</td>\n",
       "      <td>0</td>\n",
       "      <td>0</td>\n",
       "      <td>Intel</td>\n",
       "      <td>Windows</td>\n",
       "    </tr>\n",
       "    <tr>\n",
       "      <th>1299</th>\n",
       "      <td>Lenovo</td>\n",
       "      <td>Notebook</td>\n",
       "      <td>2</td>\n",
       "      <td>1.50</td>\n",
       "      <td>12201.1200</td>\n",
       "      <td>0</td>\n",
       "      <td>0</td>\n",
       "      <td>111.935204</td>\n",
       "      <td>Other Intel Processor</td>\n",
       "      <td>0</td>\n",
       "      <td>0</td>\n",
       "      <td>0</td>\n",
       "      <td>64</td>\n",
       "      <td>Intel</td>\n",
       "      <td>Windows</td>\n",
       "    </tr>\n",
       "    <tr>\n",
       "      <th>1300</th>\n",
       "      <td>HP</td>\n",
       "      <td>Notebook</td>\n",
       "      <td>6</td>\n",
       "      <td>2.19</td>\n",
       "      <td>40705.9200</td>\n",
       "      <td>0</td>\n",
       "      <td>0</td>\n",
       "      <td>100.454670</td>\n",
       "      <td>Intel Core i7</td>\n",
       "      <td>1000</td>\n",
       "      <td>0</td>\n",
       "      <td>0</td>\n",
       "      <td>0</td>\n",
       "      <td>AMD</td>\n",
       "      <td>Windows</td>\n",
       "    </tr>\n",
       "    <tr>\n",
       "      <th>1301</th>\n",
       "      <td>Asus</td>\n",
       "      <td>Notebook</td>\n",
       "      <td>4</td>\n",
       "      <td>2.20</td>\n",
       "      <td>19660.3200</td>\n",
       "      <td>0</td>\n",
       "      <td>0</td>\n",
       "      <td>100.454670</td>\n",
       "      <td>Other Intel Processor</td>\n",
       "      <td>500</td>\n",
       "      <td>0</td>\n",
       "      <td>0</td>\n",
       "      <td>0</td>\n",
       "      <td>Intel</td>\n",
       "      <td>Windows</td>\n",
       "    </tr>\n",
       "  </tbody>\n",
       "</table>\n",
       "<p>1302 rows × 15 columns</p>\n",
       "</div>"
      ],
      "text/plain": [
       "     Company            TypeName  Ram  Weight        Price  TouchScreen  Ips  \\\n",
       "0      Apple           Ultrabook    8    1.37   71378.6832            0    1   \n",
       "1      Apple           Ultrabook    8    1.34   47895.5232            0    0   \n",
       "2         HP            Notebook    8    1.86   30636.0000            0    0   \n",
       "3      Apple           Ultrabook   16    1.83  135195.3360            0    1   \n",
       "4      Apple           Ultrabook    8    1.37   96095.8080            0    1   \n",
       "...      ...                 ...  ...     ...          ...          ...  ...   \n",
       "1297  Lenovo  2 in 1 Convertible    4    1.80   33992.6400            1    1   \n",
       "1298  Lenovo  2 in 1 Convertible   16    1.30   79866.7200            1    1   \n",
       "1299  Lenovo            Notebook    2    1.50   12201.1200            0    0   \n",
       "1300      HP            Notebook    6    2.19   40705.9200            0    0   \n",
       "1301    Asus            Notebook    4    2.20   19660.3200            0    0   \n",
       "\n",
       "             ppi              Cpu Brand   HDD  SSD  Hybrid  Flash_Storage  \\\n",
       "0     226.983005          Intel Core i5     0  128       0              0   \n",
       "1     127.677940          Intel Core i5     0    0       0            128   \n",
       "2     141.211998          Intel Core i5     0  256       0              0   \n",
       "3     220.534624          Intel Core i7     0  512       0              0   \n",
       "4     226.983005          Intel Core i5     0  256       0              0   \n",
       "...          ...                    ...   ...  ...     ...            ...   \n",
       "1297  157.350512          Intel Core i7     0  128       0              0   \n",
       "1298  276.053530          Intel Core i7     0  512       0              0   \n",
       "1299  111.935204  Other Intel Processor     0    0       0             64   \n",
       "1300  100.454670          Intel Core i7  1000    0       0              0   \n",
       "1301  100.454670  Other Intel Processor   500    0       0              0   \n",
       "\n",
       "     Gpu brand                  os  \n",
       "0        Intel                 Mac  \n",
       "1        Intel                 Mac  \n",
       "2        Intel  Others/No Os/Linux  \n",
       "3          AMD                 Mac  \n",
       "4        Intel                 Mac  \n",
       "...        ...                 ...  \n",
       "1297     Intel             Windows  \n",
       "1298     Intel             Windows  \n",
       "1299     Intel             Windows  \n",
       "1300       AMD             Windows  \n",
       "1301     Intel             Windows  \n",
       "\n",
       "[1302 rows x 15 columns]"
      ]
     },
     "execution_count": 3,
     "metadata": {},
     "output_type": "execute_result"
    }
   ],
   "source": [
    "df"
   ]
  },
  {
   "cell_type": "code",
   "execution_count": 4,
   "id": "868858ee",
   "metadata": {},
   "outputs": [
    {
     "data": {
      "text/plain": [
       "Index(['Company', 'TypeName', 'Ram', 'Weight', 'Price', 'TouchScreen', 'Ips',\n",
       "       'ppi', 'Cpu_Brand', 'Hdd', 'Ssd', 'Hybrid', 'Flash_Storage',\n",
       "       'Gpu_Brand', 'os'],\n",
       "      dtype='object')"
      ]
     },
     "execution_count": 4,
     "metadata": {},
     "output_type": "execute_result"
    }
   ],
   "source": [
    "\n",
    "df = df.rename(columns={'Cpu Brand': 'Cpu_Brand'})\n",
    "df = df.rename(columns={'Gpu brand': 'Gpu_Brand'})\n",
    "df = df.rename(columns={'HDD': 'Hdd'})\n",
    "df = df.rename(columns={'SSD': 'Ssd'})\n",
    "df.columns\n"
   ]
  },
  {
   "cell_type": "code",
   "execution_count": 5,
   "id": "6359d6e8",
   "metadata": {},
   "outputs": [
    {
     "data": {
      "text/html": [
       "<div>\n",
       "<style scoped>\n",
       "    .dataframe tbody tr th:only-of-type {\n",
       "        vertical-align: middle;\n",
       "    }\n",
       "\n",
       "    .dataframe tbody tr th {\n",
       "        vertical-align: top;\n",
       "    }\n",
       "\n",
       "    .dataframe thead th {\n",
       "        text-align: right;\n",
       "    }\n",
       "</style>\n",
       "<table border=\"1\" class=\"dataframe\">\n",
       "  <thead>\n",
       "    <tr style=\"text-align: right;\">\n",
       "      <th></th>\n",
       "      <th>Company</th>\n",
       "      <th>TypeName</th>\n",
       "      <th>Ram</th>\n",
       "      <th>Weight</th>\n",
       "      <th>TouchScreen</th>\n",
       "      <th>Ips</th>\n",
       "      <th>ppi</th>\n",
       "      <th>Cpu_Brand</th>\n",
       "      <th>Hdd</th>\n",
       "      <th>Ssd</th>\n",
       "      <th>Hybrid</th>\n",
       "      <th>Flash_Storage</th>\n",
       "      <th>Gpu_Brand</th>\n",
       "      <th>os</th>\n",
       "    </tr>\n",
       "  </thead>\n",
       "  <tbody>\n",
       "    <tr>\n",
       "      <th>0</th>\n",
       "      <td>HP</td>\n",
       "      <td>Ultrabook</td>\n",
       "      <td>4</td>\n",
       "      <td>1.3</td>\n",
       "      <td>0</td>\n",
       "      <td>1</td>\n",
       "      <td>226.983005</td>\n",
       "      <td>Intel Core i3</td>\n",
       "      <td>0</td>\n",
       "      <td>128</td>\n",
       "      <td>0</td>\n",
       "      <td>0</td>\n",
       "      <td>Intel</td>\n",
       "      <td>Windows</td>\n",
       "    </tr>\n",
       "  </tbody>\n",
       "</table>\n",
       "</div>"
      ],
      "text/plain": [
       "  Company   TypeName  Ram  Weight  TouchScreen  Ips         ppi  \\\n",
       "0      HP  Ultrabook    4     1.3            0    1  226.983005   \n",
       "\n",
       "       Cpu_Brand  Hdd  Ssd  Hybrid  Flash_Storage Gpu_Brand       os  \n",
       "0  Intel Core i3    0  128       0              0     Intel  Windows  "
      ]
     },
     "execution_count": 5,
     "metadata": {},
     "output_type": "execute_result"
    }
   ],
   "source": [
    "sample = {'Company': ['HP'], \n",
    "          'TypeName':['Ultrabook'], \n",
    "          'Ram':[4],\n",
    "          'Weight':[1.3],\n",
    "          'TouchScreen':[0],\n",
    "          'Ips':[1],\n",
    "          'ppi':[226.983005], \n",
    "          'Cpu_Brand':['Intel Core i3'], \n",
    "          'Hdd':[0], \n",
    "          'Ssd':[128], \n",
    "          'Hybrid':[0], \n",
    "          'Flash_Storage':[0],\n",
    "         'Gpu_Brand': ['Intel'],\n",
    "         'os':['Windows']}\n",
    "samp = pd.DataFrame(sample)\n",
    "samp"
   ]
  },
  {
   "cell_type": "code",
   "execution_count": 6,
   "id": "76408fa5",
   "metadata": {},
   "outputs": [
    {
     "data": {
      "text/plain": [
       "array([   0, 1000,  508], dtype=int64)"
      ]
     },
     "execution_count": 6,
     "metadata": {},
     "output_type": "execute_result"
    }
   ],
   "source": [
    "df['Hybrid'].unique()"
   ]
  },
  {
   "cell_type": "code",
   "execution_count": 7,
   "id": "431301c8",
   "metadata": {
    "scrolled": true
   },
   "outputs": [
    {
     "data": {
      "text/html": [
       "<div>\n",
       "<style scoped>\n",
       "    .dataframe tbody tr th:only-of-type {\n",
       "        vertical-align: middle;\n",
       "    }\n",
       "\n",
       "    .dataframe tbody tr th {\n",
       "        vertical-align: top;\n",
       "    }\n",
       "\n",
       "    .dataframe thead th {\n",
       "        text-align: right;\n",
       "    }\n",
       "</style>\n",
       "<table border=\"1\" class=\"dataframe\">\n",
       "  <thead>\n",
       "    <tr style=\"text-align: right;\">\n",
       "      <th></th>\n",
       "      <th>Company</th>\n",
       "      <th>TypeName</th>\n",
       "      <th>Ram</th>\n",
       "      <th>Weight</th>\n",
       "      <th>TouchScreen</th>\n",
       "      <th>Ips</th>\n",
       "      <th>ppi</th>\n",
       "      <th>Cpu_Brand</th>\n",
       "      <th>Hdd</th>\n",
       "      <th>Ssd</th>\n",
       "      <th>Hybrid</th>\n",
       "      <th>Flash_Storage</th>\n",
       "      <th>Gpu_Brand</th>\n",
       "      <th>os</th>\n",
       "      <th>target</th>\n",
       "    </tr>\n",
       "  </thead>\n",
       "  <tbody>\n",
       "    <tr>\n",
       "      <th>0</th>\n",
       "      <td>Apple</td>\n",
       "      <td>Ultrabook</td>\n",
       "      <td>8</td>\n",
       "      <td>1.37</td>\n",
       "      <td>0</td>\n",
       "      <td>1</td>\n",
       "      <td>226.983005</td>\n",
       "      <td>Intel Core i5</td>\n",
       "      <td>0</td>\n",
       "      <td>128</td>\n",
       "      <td>0</td>\n",
       "      <td>0</td>\n",
       "      <td>Intel</td>\n",
       "      <td>Mac</td>\n",
       "      <td>71378.6832</td>\n",
       "    </tr>\n",
       "    <tr>\n",
       "      <th>1</th>\n",
       "      <td>Apple</td>\n",
       "      <td>Ultrabook</td>\n",
       "      <td>8</td>\n",
       "      <td>1.34</td>\n",
       "      <td>0</td>\n",
       "      <td>0</td>\n",
       "      <td>127.677940</td>\n",
       "      <td>Intel Core i5</td>\n",
       "      <td>0</td>\n",
       "      <td>0</td>\n",
       "      <td>0</td>\n",
       "      <td>128</td>\n",
       "      <td>Intel</td>\n",
       "      <td>Mac</td>\n",
       "      <td>47895.5232</td>\n",
       "    </tr>\n",
       "    <tr>\n",
       "      <th>2</th>\n",
       "      <td>HP</td>\n",
       "      <td>Notebook</td>\n",
       "      <td>8</td>\n",
       "      <td>1.86</td>\n",
       "      <td>0</td>\n",
       "      <td>0</td>\n",
       "      <td>141.211998</td>\n",
       "      <td>Intel Core i5</td>\n",
       "      <td>0</td>\n",
       "      <td>256</td>\n",
       "      <td>0</td>\n",
       "      <td>0</td>\n",
       "      <td>Intel</td>\n",
       "      <td>Others/No Os/Linux</td>\n",
       "      <td>30636.0000</td>\n",
       "    </tr>\n",
       "    <tr>\n",
       "      <th>3</th>\n",
       "      <td>Apple</td>\n",
       "      <td>Ultrabook</td>\n",
       "      <td>16</td>\n",
       "      <td>1.83</td>\n",
       "      <td>0</td>\n",
       "      <td>1</td>\n",
       "      <td>220.534624</td>\n",
       "      <td>Intel Core i7</td>\n",
       "      <td>0</td>\n",
       "      <td>512</td>\n",
       "      <td>0</td>\n",
       "      <td>0</td>\n",
       "      <td>AMD</td>\n",
       "      <td>Mac</td>\n",
       "      <td>135195.3360</td>\n",
       "    </tr>\n",
       "    <tr>\n",
       "      <th>4</th>\n",
       "      <td>Apple</td>\n",
       "      <td>Ultrabook</td>\n",
       "      <td>8</td>\n",
       "      <td>1.37</td>\n",
       "      <td>0</td>\n",
       "      <td>1</td>\n",
       "      <td>226.983005</td>\n",
       "      <td>Intel Core i5</td>\n",
       "      <td>0</td>\n",
       "      <td>256</td>\n",
       "      <td>0</td>\n",
       "      <td>0</td>\n",
       "      <td>Intel</td>\n",
       "      <td>Mac</td>\n",
       "      <td>96095.8080</td>\n",
       "    </tr>\n",
       "  </tbody>\n",
       "</table>\n",
       "</div>"
      ],
      "text/plain": [
       "  Company   TypeName  Ram  Weight  TouchScreen  Ips         ppi  \\\n",
       "0   Apple  Ultrabook    8    1.37            0    1  226.983005   \n",
       "1   Apple  Ultrabook    8    1.34            0    0  127.677940   \n",
       "2      HP   Notebook    8    1.86            0    0  141.211998   \n",
       "3   Apple  Ultrabook   16    1.83            0    1  220.534624   \n",
       "4   Apple  Ultrabook    8    1.37            0    1  226.983005   \n",
       "\n",
       "       Cpu_Brand  Hdd  Ssd  Hybrid  Flash_Storage Gpu_Brand  \\\n",
       "0  Intel Core i5    0  128       0              0     Intel   \n",
       "1  Intel Core i5    0    0       0            128     Intel   \n",
       "2  Intel Core i5    0  256       0              0     Intel   \n",
       "3  Intel Core i7    0  512       0              0       AMD   \n",
       "4  Intel Core i5    0  256       0              0     Intel   \n",
       "\n",
       "                   os       target  \n",
       "0                 Mac   71378.6832  \n",
       "1                 Mac   47895.5232  \n",
       "2  Others/No Os/Linux   30636.0000  \n",
       "3                 Mac  135195.3360  \n",
       "4                 Mac   96095.8080  "
      ]
     },
     "execution_count": 7,
     "metadata": {},
     "output_type": "execute_result"
    }
   ],
   "source": [
    "df['target'] = df['Price']\n",
    "df.drop(['Price'], axis=1, inplace=True)\n",
    "df.head()"
   ]
  },
  {
   "cell_type": "code",
   "execution_count": 8,
   "id": "d104a255",
   "metadata": {},
   "outputs": [
    {
     "data": {
      "text/plain": [
       "Hybrid\n",
       "0       1290\n",
       "1000      11\n",
       "508        1\n",
       "Name: count, dtype: int64"
      ]
     },
     "execution_count": 8,
     "metadata": {},
     "output_type": "execute_result"
    }
   ],
   "source": [
    "df['Hybrid'].value_counts()"
   ]
  },
  {
   "cell_type": "code",
   "execution_count": 9,
   "id": "38fc34d7",
   "metadata": {},
   "outputs": [],
   "source": [
    "from sklearn.model_selection import train_test_split\n",
    "\n",
    "X = df.drop(['target'], axis=1)\n",
    "y = df.target\n",
    "\n",
    "X_train, X_test, y_train, y_test = train_test_split(X,y, test_size=0.2,random_state=10)\n"
   ]
  },
  {
   "cell_type": "markdown",
   "id": "6d6406ea",
   "metadata": {},
   "source": [
    "## <font color = \"E38B29\"> pipeline model using bagging\n",
    "\n",
    "\n"
   ]
  },
  {
   "cell_type": "code",
   "execution_count": 10,
   "id": "9c0c6562",
   "metadata": {},
   "outputs": [],
   "source": [
    "from sklearn.pipeline import Pipeline\n",
    "from sklearn.impute import SimpleImputer\n",
    "from sklearn.preprocessing import StandardScaler, OneHotEncoder"
   ]
  },
  {
   "cell_type": "code",
   "execution_count": 11,
   "id": "cca4a4e2",
   "metadata": {},
   "outputs": [],
   "source": [
    "ncols =  X.select_dtypes(include=['int64','float64']).columns\n",
    "ccols = X_train.select_dtypes(include=['object']).columns"
   ]
  },
  {
   "cell_type": "code",
   "execution_count": 12,
   "id": "9ffe22cc",
   "metadata": {},
   "outputs": [],
   "source": [
    "ntransformer = Pipeline(steps=[\n",
    "    (\"imputeN\",SimpleImputer(strategy='mean')),\n",
    "    (\"scale\",StandardScaler())\n",
    "])"
   ]
  },
  {
   "cell_type": "code",
   "execution_count": 13,
   "id": "a3113789",
   "metadata": {},
   "outputs": [],
   "source": [
    "ctransformer = Pipeline(steps=[\n",
    "    (\"imputeN\",SimpleImputer(strategy='most_frequent')),\n",
    "    (\"encode\",OneHotEncoder(handle_unknown='ignore'))\n",
    "])"
   ]
  },
  {
   "cell_type": "code",
   "execution_count": 14,
   "id": "a1e12f91",
   "metadata": {},
   "outputs": [],
   "source": [
    "from sklearn.compose import ColumnTransformer\n",
    "preprocessing = ColumnTransformer(transformers=[\n",
    "    ('numerical',ntransformer,ncols),\n",
    "    ('categorical',ctransformer,ccols)\n",
    "])"
   ]
  },
  {
   "cell_type": "code",
   "execution_count": 15,
   "id": "6f3f031b",
   "metadata": {},
   "outputs": [],
   "source": [
    "#Lets get estimator first\n",
    "from sklearn.neighbors import KNeighborsRegressor\n",
    "from sklearn.ensemble import BaggingRegressor\n",
    "\n",
    "#Create estimator\n",
    "estimator = KNeighborsRegressor(n_neighbors=3, weights='distance', algorithm='kd_tree')"
   ]
  },
  {
   "cell_type": "code",
   "execution_count": 16,
   "id": "c993441c",
   "metadata": {},
   "outputs": [],
   "source": [
    "bagging = BaggingRegressor(base_estimator=estimator, n_estimators=10, max_samples=0.5)\n"
   ]
  },
  {
   "cell_type": "code",
   "execution_count": 17,
   "id": "6f22ce3e",
   "metadata": {},
   "outputs": [],
   "source": [
    "#Now add estimator to pipeline\n",
    "pipelinemodel = Pipeline(steps=[\n",
    "    ('pre',preprocessing),\n",
    "    ('est',bagging)\n",
    "])\n"
   ]
  },
  {
   "cell_type": "code",
   "execution_count": 18,
   "id": "212d34b1",
   "metadata": {},
   "outputs": [
    {
     "data": {
      "text/html": [
       "<style>#sk-502d5d9d-9725-421e-93bb-a245129f5a58 {color: black;background-color: white;}#sk-502d5d9d-9725-421e-93bb-a245129f5a58 pre{padding: 0;}#sk-502d5d9d-9725-421e-93bb-a245129f5a58 div.sk-toggleable {background-color: white;}#sk-502d5d9d-9725-421e-93bb-a245129f5a58 label.sk-toggleable__label {cursor: pointer;display: block;width: 100%;margin-bottom: 0;padding: 0.3em;box-sizing: border-box;text-align: center;}#sk-502d5d9d-9725-421e-93bb-a245129f5a58 label.sk-toggleable__label-arrow:before {content: \"▸\";float: left;margin-right: 0.25em;color: #696969;}#sk-502d5d9d-9725-421e-93bb-a245129f5a58 label.sk-toggleable__label-arrow:hover:before {color: black;}#sk-502d5d9d-9725-421e-93bb-a245129f5a58 div.sk-estimator:hover label.sk-toggleable__label-arrow:before {color: black;}#sk-502d5d9d-9725-421e-93bb-a245129f5a58 div.sk-toggleable__content {max-height: 0;max-width: 0;overflow: hidden;text-align: left;background-color: #f0f8ff;}#sk-502d5d9d-9725-421e-93bb-a245129f5a58 div.sk-toggleable__content pre {margin: 0.2em;color: black;border-radius: 0.25em;background-color: #f0f8ff;}#sk-502d5d9d-9725-421e-93bb-a245129f5a58 input.sk-toggleable__control:checked~div.sk-toggleable__content {max-height: 200px;max-width: 100%;overflow: auto;}#sk-502d5d9d-9725-421e-93bb-a245129f5a58 input.sk-toggleable__control:checked~label.sk-toggleable__label-arrow:before {content: \"▾\";}#sk-502d5d9d-9725-421e-93bb-a245129f5a58 div.sk-estimator input.sk-toggleable__control:checked~label.sk-toggleable__label {background-color: #d4ebff;}#sk-502d5d9d-9725-421e-93bb-a245129f5a58 div.sk-label input.sk-toggleable__control:checked~label.sk-toggleable__label {background-color: #d4ebff;}#sk-502d5d9d-9725-421e-93bb-a245129f5a58 input.sk-hidden--visually {border: 0;clip: rect(1px 1px 1px 1px);clip: rect(1px, 1px, 1px, 1px);height: 1px;margin: -1px;overflow: hidden;padding: 0;position: absolute;width: 1px;}#sk-502d5d9d-9725-421e-93bb-a245129f5a58 div.sk-estimator {font-family: monospace;background-color: #f0f8ff;border: 1px dotted black;border-radius: 0.25em;box-sizing: border-box;margin-bottom: 0.5em;}#sk-502d5d9d-9725-421e-93bb-a245129f5a58 div.sk-estimator:hover {background-color: #d4ebff;}#sk-502d5d9d-9725-421e-93bb-a245129f5a58 div.sk-parallel-item::after {content: \"\";width: 100%;border-bottom: 1px solid gray;flex-grow: 1;}#sk-502d5d9d-9725-421e-93bb-a245129f5a58 div.sk-label:hover label.sk-toggleable__label {background-color: #d4ebff;}#sk-502d5d9d-9725-421e-93bb-a245129f5a58 div.sk-serial::before {content: \"\";position: absolute;border-left: 1px solid gray;box-sizing: border-box;top: 2em;bottom: 0;left: 50%;}#sk-502d5d9d-9725-421e-93bb-a245129f5a58 div.sk-serial {display: flex;flex-direction: column;align-items: center;background-color: white;padding-right: 0.2em;padding-left: 0.2em;}#sk-502d5d9d-9725-421e-93bb-a245129f5a58 div.sk-item {z-index: 1;}#sk-502d5d9d-9725-421e-93bb-a245129f5a58 div.sk-parallel {display: flex;align-items: stretch;justify-content: center;background-color: white;}#sk-502d5d9d-9725-421e-93bb-a245129f5a58 div.sk-parallel::before {content: \"\";position: absolute;border-left: 1px solid gray;box-sizing: border-box;top: 2em;bottom: 0;left: 50%;}#sk-502d5d9d-9725-421e-93bb-a245129f5a58 div.sk-parallel-item {display: flex;flex-direction: column;position: relative;background-color: white;}#sk-502d5d9d-9725-421e-93bb-a245129f5a58 div.sk-parallel-item:first-child::after {align-self: flex-end;width: 50%;}#sk-502d5d9d-9725-421e-93bb-a245129f5a58 div.sk-parallel-item:last-child::after {align-self: flex-start;width: 50%;}#sk-502d5d9d-9725-421e-93bb-a245129f5a58 div.sk-parallel-item:only-child::after {width: 0;}#sk-502d5d9d-9725-421e-93bb-a245129f5a58 div.sk-dashed-wrapped {border: 1px dashed gray;margin: 0 0.4em 0.5em 0.4em;box-sizing: border-box;padding-bottom: 0.4em;background-color: white;position: relative;}#sk-502d5d9d-9725-421e-93bb-a245129f5a58 div.sk-label label {font-family: monospace;font-weight: bold;background-color: white;display: inline-block;line-height: 1.2em;}#sk-502d5d9d-9725-421e-93bb-a245129f5a58 div.sk-label-container {position: relative;z-index: 2;text-align: center;}#sk-502d5d9d-9725-421e-93bb-a245129f5a58 div.sk-container {/* jupyter's `normalize.less` sets `[hidden] { display: none; }` but bootstrap.min.css set `[hidden] { display: none !important; }` so we also need the `!important` here to be able to override the default hidden behavior on the sphinx rendered scikit-learn.org. See: https://github.com/scikit-learn/scikit-learn/issues/21755 */display: inline-block !important;position: relative;}#sk-502d5d9d-9725-421e-93bb-a245129f5a58 div.sk-text-repr-fallback {display: none;}</style><div id=\"sk-502d5d9d-9725-421e-93bb-a245129f5a58\" class=\"sk-top-container\"><div class=\"sk-text-repr-fallback\"><pre>Pipeline(steps=[(&#x27;pre&#x27;,\n",
       "                 ColumnTransformer(transformers=[(&#x27;numerical&#x27;,\n",
       "                                                  Pipeline(steps=[(&#x27;imputeN&#x27;,\n",
       "                                                                   SimpleImputer()),\n",
       "                                                                  (&#x27;scale&#x27;,\n",
       "                                                                   StandardScaler())]),\n",
       "                                                  Index([&#x27;Ram&#x27;, &#x27;Weight&#x27;, &#x27;TouchScreen&#x27;, &#x27;Ips&#x27;, &#x27;ppi&#x27;, &#x27;Hdd&#x27;, &#x27;Ssd&#x27;, &#x27;Hybrid&#x27;,\n",
       "       &#x27;Flash_Storage&#x27;],\n",
       "      dtype=&#x27;object&#x27;)),\n",
       "                                                 (&#x27;categorical&#x27;,\n",
       "                                                  Pipeline(steps=[(&#x27;imputeN&#x27;,\n",
       "                                                                   SimpleImputer(strategy=&#x27;most_frequent&#x27;)),\n",
       "                                                                  (&#x27;encode&#x27;,\n",
       "                                                                   OneHotEncoder(handle_unknown=&#x27;ignore&#x27;))]),\n",
       "                                                  Index([&#x27;Company&#x27;, &#x27;TypeName&#x27;, &#x27;Cpu_Brand&#x27;, &#x27;Gpu_Brand&#x27;, &#x27;os&#x27;], dtype=&#x27;object&#x27;))])),\n",
       "                (&#x27;est&#x27;,\n",
       "                 BaggingRegressor(base_estimator=KNeighborsRegressor(algorithm=&#x27;kd_tree&#x27;,\n",
       "                                                                     n_neighbors=3,\n",
       "                                                                     weights=&#x27;distance&#x27;),\n",
       "                                  max_samples=0.5))])</pre><b>Please rerun this cell to show the HTML repr or trust the notebook.</b></div><div class=\"sk-container\" hidden><div class=\"sk-item sk-dashed-wrapped\"><div class=\"sk-label-container\"><div class=\"sk-label sk-toggleable\"><input class=\"sk-toggleable__control sk-hidden--visually\" id=\"da4f1246-bbe4-4971-af06-8ff27e3819fb\" type=\"checkbox\" ><label for=\"da4f1246-bbe4-4971-af06-8ff27e3819fb\" class=\"sk-toggleable__label sk-toggleable__label-arrow\">Pipeline</label><div class=\"sk-toggleable__content\"><pre>Pipeline(steps=[(&#x27;pre&#x27;,\n",
       "                 ColumnTransformer(transformers=[(&#x27;numerical&#x27;,\n",
       "                                                  Pipeline(steps=[(&#x27;imputeN&#x27;,\n",
       "                                                                   SimpleImputer()),\n",
       "                                                                  (&#x27;scale&#x27;,\n",
       "                                                                   StandardScaler())]),\n",
       "                                                  Index([&#x27;Ram&#x27;, &#x27;Weight&#x27;, &#x27;TouchScreen&#x27;, &#x27;Ips&#x27;, &#x27;ppi&#x27;, &#x27;Hdd&#x27;, &#x27;Ssd&#x27;, &#x27;Hybrid&#x27;,\n",
       "       &#x27;Flash_Storage&#x27;],\n",
       "      dtype=&#x27;object&#x27;)),\n",
       "                                                 (&#x27;categorical&#x27;,\n",
       "                                                  Pipeline(steps=[(&#x27;imputeN&#x27;,\n",
       "                                                                   SimpleImputer(strategy=&#x27;most_frequent&#x27;)),\n",
       "                                                                  (&#x27;encode&#x27;,\n",
       "                                                                   OneHotEncoder(handle_unknown=&#x27;ignore&#x27;))]),\n",
       "                                                  Index([&#x27;Company&#x27;, &#x27;TypeName&#x27;, &#x27;Cpu_Brand&#x27;, &#x27;Gpu_Brand&#x27;, &#x27;os&#x27;], dtype=&#x27;object&#x27;))])),\n",
       "                (&#x27;est&#x27;,\n",
       "                 BaggingRegressor(base_estimator=KNeighborsRegressor(algorithm=&#x27;kd_tree&#x27;,\n",
       "                                                                     n_neighbors=3,\n",
       "                                                                     weights=&#x27;distance&#x27;),\n",
       "                                  max_samples=0.5))])</pre></div></div></div><div class=\"sk-serial\"><div class=\"sk-item sk-dashed-wrapped\"><div class=\"sk-label-container\"><div class=\"sk-label sk-toggleable\"><input class=\"sk-toggleable__control sk-hidden--visually\" id=\"465cfe68-38c8-49c9-aa5b-3594055628fa\" type=\"checkbox\" ><label for=\"465cfe68-38c8-49c9-aa5b-3594055628fa\" class=\"sk-toggleable__label sk-toggleable__label-arrow\">pre: ColumnTransformer</label><div class=\"sk-toggleable__content\"><pre>ColumnTransformer(transformers=[(&#x27;numerical&#x27;,\n",
       "                                 Pipeline(steps=[(&#x27;imputeN&#x27;, SimpleImputer()),\n",
       "                                                 (&#x27;scale&#x27;, StandardScaler())]),\n",
       "                                 Index([&#x27;Ram&#x27;, &#x27;Weight&#x27;, &#x27;TouchScreen&#x27;, &#x27;Ips&#x27;, &#x27;ppi&#x27;, &#x27;Hdd&#x27;, &#x27;Ssd&#x27;, &#x27;Hybrid&#x27;,\n",
       "       &#x27;Flash_Storage&#x27;],\n",
       "      dtype=&#x27;object&#x27;)),\n",
       "                                (&#x27;categorical&#x27;,\n",
       "                                 Pipeline(steps=[(&#x27;imputeN&#x27;,\n",
       "                                                  SimpleImputer(strategy=&#x27;most_frequent&#x27;)),\n",
       "                                                 (&#x27;encode&#x27;,\n",
       "                                                  OneHotEncoder(handle_unknown=&#x27;ignore&#x27;))]),\n",
       "                                 Index([&#x27;Company&#x27;, &#x27;TypeName&#x27;, &#x27;Cpu_Brand&#x27;, &#x27;Gpu_Brand&#x27;, &#x27;os&#x27;], dtype=&#x27;object&#x27;))])</pre></div></div></div><div class=\"sk-parallel\"><div class=\"sk-parallel-item\"><div class=\"sk-item\"><div class=\"sk-label-container\"><div class=\"sk-label sk-toggleable\"><input class=\"sk-toggleable__control sk-hidden--visually\" id=\"8468d8a8-30bd-43d4-baf4-964979964c6c\" type=\"checkbox\" ><label for=\"8468d8a8-30bd-43d4-baf4-964979964c6c\" class=\"sk-toggleable__label sk-toggleable__label-arrow\">numerical</label><div class=\"sk-toggleable__content\"><pre>Index([&#x27;Ram&#x27;, &#x27;Weight&#x27;, &#x27;TouchScreen&#x27;, &#x27;Ips&#x27;, &#x27;ppi&#x27;, &#x27;Hdd&#x27;, &#x27;Ssd&#x27;, &#x27;Hybrid&#x27;,\n",
       "       &#x27;Flash_Storage&#x27;],\n",
       "      dtype=&#x27;object&#x27;)</pre></div></div></div><div class=\"sk-serial\"><div class=\"sk-item\"><div class=\"sk-serial\"><div class=\"sk-item\"><div class=\"sk-estimator sk-toggleable\"><input class=\"sk-toggleable__control sk-hidden--visually\" id=\"eb45c7a7-749f-49d6-9f1b-f42c1fb0fc59\" type=\"checkbox\" ><label for=\"eb45c7a7-749f-49d6-9f1b-f42c1fb0fc59\" class=\"sk-toggleable__label sk-toggleable__label-arrow\">SimpleImputer</label><div class=\"sk-toggleable__content\"><pre>SimpleImputer()</pre></div></div></div><div class=\"sk-item\"><div class=\"sk-estimator sk-toggleable\"><input class=\"sk-toggleable__control sk-hidden--visually\" id=\"f1a2aaa5-ad0f-4585-84e5-a16be63fb8a0\" type=\"checkbox\" ><label for=\"f1a2aaa5-ad0f-4585-84e5-a16be63fb8a0\" class=\"sk-toggleable__label sk-toggleable__label-arrow\">StandardScaler</label><div class=\"sk-toggleable__content\"><pre>StandardScaler()</pre></div></div></div></div></div></div></div></div><div class=\"sk-parallel-item\"><div class=\"sk-item\"><div class=\"sk-label-container\"><div class=\"sk-label sk-toggleable\"><input class=\"sk-toggleable__control sk-hidden--visually\" id=\"e215a02d-ab31-4ef4-92fb-b9323188fd83\" type=\"checkbox\" ><label for=\"e215a02d-ab31-4ef4-92fb-b9323188fd83\" class=\"sk-toggleable__label sk-toggleable__label-arrow\">categorical</label><div class=\"sk-toggleable__content\"><pre>Index([&#x27;Company&#x27;, &#x27;TypeName&#x27;, &#x27;Cpu_Brand&#x27;, &#x27;Gpu_Brand&#x27;, &#x27;os&#x27;], dtype=&#x27;object&#x27;)</pre></div></div></div><div class=\"sk-serial\"><div class=\"sk-item\"><div class=\"sk-serial\"><div class=\"sk-item\"><div class=\"sk-estimator sk-toggleable\"><input class=\"sk-toggleable__control sk-hidden--visually\" id=\"24f87f99-493f-4d65-a993-9f88e4d3ffa4\" type=\"checkbox\" ><label for=\"24f87f99-493f-4d65-a993-9f88e4d3ffa4\" class=\"sk-toggleable__label sk-toggleable__label-arrow\">SimpleImputer</label><div class=\"sk-toggleable__content\"><pre>SimpleImputer(strategy=&#x27;most_frequent&#x27;)</pre></div></div></div><div class=\"sk-item\"><div class=\"sk-estimator sk-toggleable\"><input class=\"sk-toggleable__control sk-hidden--visually\" id=\"a1d03c87-b7ed-4465-9985-7bab0ea8b33c\" type=\"checkbox\" ><label for=\"a1d03c87-b7ed-4465-9985-7bab0ea8b33c\" class=\"sk-toggleable__label sk-toggleable__label-arrow\">OneHotEncoder</label><div class=\"sk-toggleable__content\"><pre>OneHotEncoder(handle_unknown=&#x27;ignore&#x27;)</pre></div></div></div></div></div></div></div></div></div></div><div class=\"sk-item sk-dashed-wrapped\"><div class=\"sk-label-container\"><div class=\"sk-label sk-toggleable\"><input class=\"sk-toggleable__control sk-hidden--visually\" id=\"827a6ac2-e1b4-4739-9aec-971131f39353\" type=\"checkbox\" ><label for=\"827a6ac2-e1b4-4739-9aec-971131f39353\" class=\"sk-toggleable__label sk-toggleable__label-arrow\">est: BaggingRegressor</label><div class=\"sk-toggleable__content\"><pre>BaggingRegressor(base_estimator=KNeighborsRegressor(algorithm=&#x27;kd_tree&#x27;,\n",
       "                                                    n_neighbors=3,\n",
       "                                                    weights=&#x27;distance&#x27;),\n",
       "                 max_samples=0.5)</pre></div></div></div><div class=\"sk-parallel\"><div class=\"sk-parallel-item\"><div class=\"sk-item\"><div class=\"sk-serial\"><div class=\"sk-item\"><div class=\"sk-estimator sk-toggleable\"><input class=\"sk-toggleable__control sk-hidden--visually\" id=\"fed0d8ae-cde6-4202-a8f7-c602f19ad330\" type=\"checkbox\" ><label for=\"fed0d8ae-cde6-4202-a8f7-c602f19ad330\" class=\"sk-toggleable__label sk-toggleable__label-arrow\">KNeighborsRegressor</label><div class=\"sk-toggleable__content\"><pre>KNeighborsRegressor(algorithm=&#x27;kd_tree&#x27;, n_neighbors=3, weights=&#x27;distance&#x27;)</pre></div></div></div></div></div></div></div></div></div></div></div></div>"
      ],
      "text/plain": [
       "Pipeline(steps=[('pre',\n",
       "                 ColumnTransformer(transformers=[('numerical',\n",
       "                                                  Pipeline(steps=[('imputeN',\n",
       "                                                                   SimpleImputer()),\n",
       "                                                                  ('scale',\n",
       "                                                                   StandardScaler())]),\n",
       "                                                  Index(['Ram', 'Weight', 'TouchScreen', 'Ips', 'ppi', 'Hdd', 'Ssd', 'Hybrid',\n",
       "       'Flash_Storage'],\n",
       "      dtype='object')),\n",
       "                                                 ('categorical',\n",
       "                                                  Pipeline(steps=[('imputeN',\n",
       "                                                                   SimpleImputer(strategy='most_frequent')),\n",
       "                                                                  ('encode',\n",
       "                                                                   OneHotEncoder(handle_unknown='ignore'))]),\n",
       "                                                  Index(['Company', 'TypeName', 'Cpu_Brand', 'Gpu_Brand', 'os'], dtype='object'))])),\n",
       "                ('est',\n",
       "                 BaggingRegressor(base_estimator=KNeighborsRegressor(algorithm='kd_tree',\n",
       "                                                                     n_neighbors=3,\n",
       "                                                                     weights='distance'),\n",
       "                                  max_samples=0.5))])"
      ]
     },
     "execution_count": 18,
     "metadata": {},
     "output_type": "execute_result"
    }
   ],
   "source": [
    "from sklearn import set_config\n",
    "set_config(display='diagram')\n",
    "pipelinemodel.fit(X_train, y_train)\n"
   ]
  },
  {
   "cell_type": "code",
   "execution_count": 19,
   "id": "5cc6ecbf",
   "metadata": {},
   "outputs": [],
   "source": [
    " ypred = pipelinemodel.predict(X_test)\n"
   ]
  },
  {
   "cell_type": "code",
   "execution_count": 20,
   "id": "63c3cd11",
   "metadata": {},
   "outputs": [
    {
     "data": {
      "text/plain": [
       "array([57056.46698822])"
      ]
     },
     "execution_count": 20,
     "metadata": {},
     "output_type": "execute_result"
    }
   ],
   "source": [
    "res = pipelinemodel.predict(samp)\n",
    "res"
   ]
  },
  {
   "cell_type": "code",
   "execution_count": 21,
   "id": "1a95222a",
   "metadata": {},
   "outputs": [
    {
     "name": "stdout",
     "output_type": "stream",
     "text": [
      "Mean Absolute Error: 11957.985511289884\n",
      "Mean Squared Error: 303330296.74928695\n",
      "Root Mean Squared Error: 17416.38012760651\n",
      "R-squared: 0.7395252783895181\n"
     ]
    }
   ],
   "source": [
    "from sklearn.metrics import mean_absolute_error, mean_squared_error, r2_score\n",
    "\n",
    "\n",
    "mae = mean_absolute_error(y_test, ypred)\n",
    "mse = mean_squared_error(y_test, ypred)\n",
    "rmse = np.sqrt(mse)\n",
    "r2 = r2_score(y_test, ypred)\n",
    "\n",
    "print(\"Mean Absolute Error:\", mae)\n",
    "print(\"Mean Squared Error:\", mse)\n",
    "print(\"Root Mean Squared Error:\", rmse)\n",
    "print(\"R-squared:\", r2)"
   ]
  },
  {
   "cell_type": "code",
   "execution_count": 22,
   "id": "221e0ad9",
   "metadata": {},
   "outputs": [
    {
     "name": "stdout",
     "output_type": "stream",
     "text": [
      "0.9006424329239868\n",
      "0.7395252783895181\n"
     ]
    }
   ],
   "source": [
    "print(pipelinemodel.score(X_train, y_train))\n",
    "print(pipelinemodel.score(X_test, y_test))"
   ]
  },
  {
   "cell_type": "code",
   "execution_count": null,
   "id": "3323b6f7",
   "metadata": {},
   "outputs": [],
   "source": []
  },
  {
   "cell_type": "markdown",
   "id": "9acce124",
   "metadata": {},
   "source": [
    "## <font color = \"E38B29\"> pipeline model using voting\n",
    "\n",
    "\n"
   ]
  },
  {
   "cell_type": "code",
   "execution_count": 23,
   "id": "81dcdde9",
   "metadata": {},
   "outputs": [],
   "source": [
    "from sklearn.tree import DecisionTreeRegressor\n",
    "from sklearn.linear_model import LinearRegression\n",
    "from sklearn.neighbors import KNeighborsRegressor\n",
    "from sklearn.linear_model import Lasso\n",
    "\n",
    "\n",
    "model1 = DecisionTreeRegressor()\n",
    "model2 = LinearRegression()\n",
    "model3 = KNeighborsRegressor()\n",
    "model4 = Lasso(alpha=0.1)\n",
    "from sklearn.ensemble import VotingRegressor\n",
    "ensemble = VotingRegressor(estimators=[('dt', model1), ('lr', model2), ('kn', model3),(\"la\", model4)])\n"
   ]
  },
  {
   "cell_type": "code",
   "execution_count": 24,
   "id": "a0ea4122",
   "metadata": {},
   "outputs": [],
   "source": [
    "pipelinemodel1 = Pipeline(steps=[\n",
    "    ('pre',preprocessing),\n",
    "    ('est',ensemble)\n",
    "])"
   ]
  },
  {
   "cell_type": "code",
   "execution_count": 25,
   "id": "0d17f993",
   "metadata": {},
   "outputs": [
    {
     "name": "stderr",
     "output_type": "stream",
     "text": [
      "C:\\Users\\Crystal\\anaconda3\\lib\\site-packages\\sklearn\\linear_model\\_coordinate_descent.py:647: ConvergenceWarning: Objective did not converge. You might want to increase the number of iterations, check the scale of the features or consider increasing regularisation. Duality gap: 2.297e+10, tolerance: 1.501e+08\n",
      "  model = cd_fast.enet_coordinate_descent(\n"
     ]
    },
    {
     "data": {
      "text/html": [
       "<style>#sk-83b02d0b-4e6a-4ded-9661-26d42093589a {color: black;background-color: white;}#sk-83b02d0b-4e6a-4ded-9661-26d42093589a pre{padding: 0;}#sk-83b02d0b-4e6a-4ded-9661-26d42093589a div.sk-toggleable {background-color: white;}#sk-83b02d0b-4e6a-4ded-9661-26d42093589a label.sk-toggleable__label {cursor: pointer;display: block;width: 100%;margin-bottom: 0;padding: 0.3em;box-sizing: border-box;text-align: center;}#sk-83b02d0b-4e6a-4ded-9661-26d42093589a label.sk-toggleable__label-arrow:before {content: \"▸\";float: left;margin-right: 0.25em;color: #696969;}#sk-83b02d0b-4e6a-4ded-9661-26d42093589a label.sk-toggleable__label-arrow:hover:before {color: black;}#sk-83b02d0b-4e6a-4ded-9661-26d42093589a div.sk-estimator:hover label.sk-toggleable__label-arrow:before {color: black;}#sk-83b02d0b-4e6a-4ded-9661-26d42093589a div.sk-toggleable__content {max-height: 0;max-width: 0;overflow: hidden;text-align: left;background-color: #f0f8ff;}#sk-83b02d0b-4e6a-4ded-9661-26d42093589a div.sk-toggleable__content pre {margin: 0.2em;color: black;border-radius: 0.25em;background-color: #f0f8ff;}#sk-83b02d0b-4e6a-4ded-9661-26d42093589a input.sk-toggleable__control:checked~div.sk-toggleable__content {max-height: 200px;max-width: 100%;overflow: auto;}#sk-83b02d0b-4e6a-4ded-9661-26d42093589a input.sk-toggleable__control:checked~label.sk-toggleable__label-arrow:before {content: \"▾\";}#sk-83b02d0b-4e6a-4ded-9661-26d42093589a div.sk-estimator input.sk-toggleable__control:checked~label.sk-toggleable__label {background-color: #d4ebff;}#sk-83b02d0b-4e6a-4ded-9661-26d42093589a div.sk-label input.sk-toggleable__control:checked~label.sk-toggleable__label {background-color: #d4ebff;}#sk-83b02d0b-4e6a-4ded-9661-26d42093589a input.sk-hidden--visually {border: 0;clip: rect(1px 1px 1px 1px);clip: rect(1px, 1px, 1px, 1px);height: 1px;margin: -1px;overflow: hidden;padding: 0;position: absolute;width: 1px;}#sk-83b02d0b-4e6a-4ded-9661-26d42093589a div.sk-estimator {font-family: monospace;background-color: #f0f8ff;border: 1px dotted black;border-radius: 0.25em;box-sizing: border-box;margin-bottom: 0.5em;}#sk-83b02d0b-4e6a-4ded-9661-26d42093589a div.sk-estimator:hover {background-color: #d4ebff;}#sk-83b02d0b-4e6a-4ded-9661-26d42093589a div.sk-parallel-item::after {content: \"\";width: 100%;border-bottom: 1px solid gray;flex-grow: 1;}#sk-83b02d0b-4e6a-4ded-9661-26d42093589a div.sk-label:hover label.sk-toggleable__label {background-color: #d4ebff;}#sk-83b02d0b-4e6a-4ded-9661-26d42093589a div.sk-serial::before {content: \"\";position: absolute;border-left: 1px solid gray;box-sizing: border-box;top: 2em;bottom: 0;left: 50%;}#sk-83b02d0b-4e6a-4ded-9661-26d42093589a div.sk-serial {display: flex;flex-direction: column;align-items: center;background-color: white;padding-right: 0.2em;padding-left: 0.2em;}#sk-83b02d0b-4e6a-4ded-9661-26d42093589a div.sk-item {z-index: 1;}#sk-83b02d0b-4e6a-4ded-9661-26d42093589a div.sk-parallel {display: flex;align-items: stretch;justify-content: center;background-color: white;}#sk-83b02d0b-4e6a-4ded-9661-26d42093589a div.sk-parallel::before {content: \"\";position: absolute;border-left: 1px solid gray;box-sizing: border-box;top: 2em;bottom: 0;left: 50%;}#sk-83b02d0b-4e6a-4ded-9661-26d42093589a div.sk-parallel-item {display: flex;flex-direction: column;position: relative;background-color: white;}#sk-83b02d0b-4e6a-4ded-9661-26d42093589a div.sk-parallel-item:first-child::after {align-self: flex-end;width: 50%;}#sk-83b02d0b-4e6a-4ded-9661-26d42093589a div.sk-parallel-item:last-child::after {align-self: flex-start;width: 50%;}#sk-83b02d0b-4e6a-4ded-9661-26d42093589a div.sk-parallel-item:only-child::after {width: 0;}#sk-83b02d0b-4e6a-4ded-9661-26d42093589a div.sk-dashed-wrapped {border: 1px dashed gray;margin: 0 0.4em 0.5em 0.4em;box-sizing: border-box;padding-bottom: 0.4em;background-color: white;position: relative;}#sk-83b02d0b-4e6a-4ded-9661-26d42093589a div.sk-label label {font-family: monospace;font-weight: bold;background-color: white;display: inline-block;line-height: 1.2em;}#sk-83b02d0b-4e6a-4ded-9661-26d42093589a div.sk-label-container {position: relative;z-index: 2;text-align: center;}#sk-83b02d0b-4e6a-4ded-9661-26d42093589a div.sk-container {/* jupyter's `normalize.less` sets `[hidden] { display: none; }` but bootstrap.min.css set `[hidden] { display: none !important; }` so we also need the `!important` here to be able to override the default hidden behavior on the sphinx rendered scikit-learn.org. See: https://github.com/scikit-learn/scikit-learn/issues/21755 */display: inline-block !important;position: relative;}#sk-83b02d0b-4e6a-4ded-9661-26d42093589a div.sk-text-repr-fallback {display: none;}</style><div id=\"sk-83b02d0b-4e6a-4ded-9661-26d42093589a\" class=\"sk-top-container\"><div class=\"sk-text-repr-fallback\"><pre>Pipeline(steps=[(&#x27;pre&#x27;,\n",
       "                 ColumnTransformer(transformers=[(&#x27;numerical&#x27;,\n",
       "                                                  Pipeline(steps=[(&#x27;imputeN&#x27;,\n",
       "                                                                   SimpleImputer()),\n",
       "                                                                  (&#x27;scale&#x27;,\n",
       "                                                                   StandardScaler())]),\n",
       "                                                  Index([&#x27;Ram&#x27;, &#x27;Weight&#x27;, &#x27;TouchScreen&#x27;, &#x27;Ips&#x27;, &#x27;ppi&#x27;, &#x27;Hdd&#x27;, &#x27;Ssd&#x27;, &#x27;Hybrid&#x27;,\n",
       "       &#x27;Flash_Storage&#x27;],\n",
       "      dtype=&#x27;object&#x27;)),\n",
       "                                                 (&#x27;categorical&#x27;,\n",
       "                                                  Pipeline(steps=[(&#x27;imputeN&#x27;,\n",
       "                                                                   SimpleImputer(strategy=&#x27;most_frequent&#x27;)),\n",
       "                                                                  (&#x27;encode&#x27;,\n",
       "                                                                   OneHotEncoder(handle_unknown=&#x27;ignore&#x27;))]),\n",
       "                                                  Index([&#x27;Company&#x27;, &#x27;TypeName&#x27;, &#x27;Cpu_Brand&#x27;, &#x27;Gpu_Brand&#x27;, &#x27;os&#x27;], dtype=&#x27;object&#x27;))])),\n",
       "                (&#x27;est&#x27;,\n",
       "                 VotingRegressor(estimators=[(&#x27;dt&#x27;, DecisionTreeRegressor()),\n",
       "                                             (&#x27;lr&#x27;, LinearRegression()),\n",
       "                                             (&#x27;kn&#x27;, KNeighborsRegressor()),\n",
       "                                             (&#x27;la&#x27;, Lasso(alpha=0.1))]))])</pre><b>Please rerun this cell to show the HTML repr or trust the notebook.</b></div><div class=\"sk-container\" hidden><div class=\"sk-item sk-dashed-wrapped\"><div class=\"sk-label-container\"><div class=\"sk-label sk-toggleable\"><input class=\"sk-toggleable__control sk-hidden--visually\" id=\"b92c040e-44e1-460f-b28c-1422dbdf300d\" type=\"checkbox\" ><label for=\"b92c040e-44e1-460f-b28c-1422dbdf300d\" class=\"sk-toggleable__label sk-toggleable__label-arrow\">Pipeline</label><div class=\"sk-toggleable__content\"><pre>Pipeline(steps=[(&#x27;pre&#x27;,\n",
       "                 ColumnTransformer(transformers=[(&#x27;numerical&#x27;,\n",
       "                                                  Pipeline(steps=[(&#x27;imputeN&#x27;,\n",
       "                                                                   SimpleImputer()),\n",
       "                                                                  (&#x27;scale&#x27;,\n",
       "                                                                   StandardScaler())]),\n",
       "                                                  Index([&#x27;Ram&#x27;, &#x27;Weight&#x27;, &#x27;TouchScreen&#x27;, &#x27;Ips&#x27;, &#x27;ppi&#x27;, &#x27;Hdd&#x27;, &#x27;Ssd&#x27;, &#x27;Hybrid&#x27;,\n",
       "       &#x27;Flash_Storage&#x27;],\n",
       "      dtype=&#x27;object&#x27;)),\n",
       "                                                 (&#x27;categorical&#x27;,\n",
       "                                                  Pipeline(steps=[(&#x27;imputeN&#x27;,\n",
       "                                                                   SimpleImputer(strategy=&#x27;most_frequent&#x27;)),\n",
       "                                                                  (&#x27;encode&#x27;,\n",
       "                                                                   OneHotEncoder(handle_unknown=&#x27;ignore&#x27;))]),\n",
       "                                                  Index([&#x27;Company&#x27;, &#x27;TypeName&#x27;, &#x27;Cpu_Brand&#x27;, &#x27;Gpu_Brand&#x27;, &#x27;os&#x27;], dtype=&#x27;object&#x27;))])),\n",
       "                (&#x27;est&#x27;,\n",
       "                 VotingRegressor(estimators=[(&#x27;dt&#x27;, DecisionTreeRegressor()),\n",
       "                                             (&#x27;lr&#x27;, LinearRegression()),\n",
       "                                             (&#x27;kn&#x27;, KNeighborsRegressor()),\n",
       "                                             (&#x27;la&#x27;, Lasso(alpha=0.1))]))])</pre></div></div></div><div class=\"sk-serial\"><div class=\"sk-item sk-dashed-wrapped\"><div class=\"sk-label-container\"><div class=\"sk-label sk-toggleable\"><input class=\"sk-toggleable__control sk-hidden--visually\" id=\"d11b3a5f-e48a-40a2-baf0-e949652c4613\" type=\"checkbox\" ><label for=\"d11b3a5f-e48a-40a2-baf0-e949652c4613\" class=\"sk-toggleable__label sk-toggleable__label-arrow\">pre: ColumnTransformer</label><div class=\"sk-toggleable__content\"><pre>ColumnTransformer(transformers=[(&#x27;numerical&#x27;,\n",
       "                                 Pipeline(steps=[(&#x27;imputeN&#x27;, SimpleImputer()),\n",
       "                                                 (&#x27;scale&#x27;, StandardScaler())]),\n",
       "                                 Index([&#x27;Ram&#x27;, &#x27;Weight&#x27;, &#x27;TouchScreen&#x27;, &#x27;Ips&#x27;, &#x27;ppi&#x27;, &#x27;Hdd&#x27;, &#x27;Ssd&#x27;, &#x27;Hybrid&#x27;,\n",
       "       &#x27;Flash_Storage&#x27;],\n",
       "      dtype=&#x27;object&#x27;)),\n",
       "                                (&#x27;categorical&#x27;,\n",
       "                                 Pipeline(steps=[(&#x27;imputeN&#x27;,\n",
       "                                                  SimpleImputer(strategy=&#x27;most_frequent&#x27;)),\n",
       "                                                 (&#x27;encode&#x27;,\n",
       "                                                  OneHotEncoder(handle_unknown=&#x27;ignore&#x27;))]),\n",
       "                                 Index([&#x27;Company&#x27;, &#x27;TypeName&#x27;, &#x27;Cpu_Brand&#x27;, &#x27;Gpu_Brand&#x27;, &#x27;os&#x27;], dtype=&#x27;object&#x27;))])</pre></div></div></div><div class=\"sk-parallel\"><div class=\"sk-parallel-item\"><div class=\"sk-item\"><div class=\"sk-label-container\"><div class=\"sk-label sk-toggleable\"><input class=\"sk-toggleable__control sk-hidden--visually\" id=\"beb7f419-2451-432b-8894-d94abc9c67be\" type=\"checkbox\" ><label for=\"beb7f419-2451-432b-8894-d94abc9c67be\" class=\"sk-toggleable__label sk-toggleable__label-arrow\">numerical</label><div class=\"sk-toggleable__content\"><pre>Index([&#x27;Ram&#x27;, &#x27;Weight&#x27;, &#x27;TouchScreen&#x27;, &#x27;Ips&#x27;, &#x27;ppi&#x27;, &#x27;Hdd&#x27;, &#x27;Ssd&#x27;, &#x27;Hybrid&#x27;,\n",
       "       &#x27;Flash_Storage&#x27;],\n",
       "      dtype=&#x27;object&#x27;)</pre></div></div></div><div class=\"sk-serial\"><div class=\"sk-item\"><div class=\"sk-serial\"><div class=\"sk-item\"><div class=\"sk-estimator sk-toggleable\"><input class=\"sk-toggleable__control sk-hidden--visually\" id=\"23276a90-43c6-4883-9f20-d3cd7cee1e2e\" type=\"checkbox\" ><label for=\"23276a90-43c6-4883-9f20-d3cd7cee1e2e\" class=\"sk-toggleable__label sk-toggleable__label-arrow\">SimpleImputer</label><div class=\"sk-toggleable__content\"><pre>SimpleImputer()</pre></div></div></div><div class=\"sk-item\"><div class=\"sk-estimator sk-toggleable\"><input class=\"sk-toggleable__control sk-hidden--visually\" id=\"195aebc0-4b50-4875-9d9b-b7ab6e9930e6\" type=\"checkbox\" ><label for=\"195aebc0-4b50-4875-9d9b-b7ab6e9930e6\" class=\"sk-toggleable__label sk-toggleable__label-arrow\">StandardScaler</label><div class=\"sk-toggleable__content\"><pre>StandardScaler()</pre></div></div></div></div></div></div></div></div><div class=\"sk-parallel-item\"><div class=\"sk-item\"><div class=\"sk-label-container\"><div class=\"sk-label sk-toggleable\"><input class=\"sk-toggleable__control sk-hidden--visually\" id=\"148ffef9-65a0-4784-84e3-8b68d62b9690\" type=\"checkbox\" ><label for=\"148ffef9-65a0-4784-84e3-8b68d62b9690\" class=\"sk-toggleable__label sk-toggleable__label-arrow\">categorical</label><div class=\"sk-toggleable__content\"><pre>Index([&#x27;Company&#x27;, &#x27;TypeName&#x27;, &#x27;Cpu_Brand&#x27;, &#x27;Gpu_Brand&#x27;, &#x27;os&#x27;], dtype=&#x27;object&#x27;)</pre></div></div></div><div class=\"sk-serial\"><div class=\"sk-item\"><div class=\"sk-serial\"><div class=\"sk-item\"><div class=\"sk-estimator sk-toggleable\"><input class=\"sk-toggleable__control sk-hidden--visually\" id=\"c5e023b1-cfd6-4f90-8d2a-da1288bf4942\" type=\"checkbox\" ><label for=\"c5e023b1-cfd6-4f90-8d2a-da1288bf4942\" class=\"sk-toggleable__label sk-toggleable__label-arrow\">SimpleImputer</label><div class=\"sk-toggleable__content\"><pre>SimpleImputer(strategy=&#x27;most_frequent&#x27;)</pre></div></div></div><div class=\"sk-item\"><div class=\"sk-estimator sk-toggleable\"><input class=\"sk-toggleable__control sk-hidden--visually\" id=\"fe24ac7b-38e6-40ee-8818-5304fc7ff099\" type=\"checkbox\" ><label for=\"fe24ac7b-38e6-40ee-8818-5304fc7ff099\" class=\"sk-toggleable__label sk-toggleable__label-arrow\">OneHotEncoder</label><div class=\"sk-toggleable__content\"><pre>OneHotEncoder(handle_unknown=&#x27;ignore&#x27;)</pre></div></div></div></div></div></div></div></div></div></div><div class=\"sk-item sk-dashed-wrapped\"><div class=\"sk-label-container\"><div class=\"sk-label sk-toggleable\"><input class=\"sk-toggleable__control sk-hidden--visually\" id=\"4bb5669c-a3b3-41bd-91ac-534be4924679\" type=\"checkbox\" ><label for=\"4bb5669c-a3b3-41bd-91ac-534be4924679\" class=\"sk-toggleable__label sk-toggleable__label-arrow\">est: VotingRegressor</label><div class=\"sk-toggleable__content\"><pre>VotingRegressor(estimators=[(&#x27;dt&#x27;, DecisionTreeRegressor()),\n",
       "                            (&#x27;lr&#x27;, LinearRegression()),\n",
       "                            (&#x27;kn&#x27;, KNeighborsRegressor()),\n",
       "                            (&#x27;la&#x27;, Lasso(alpha=0.1))])</pre></div></div></div><div class=\"sk-parallel\"><div class=\"sk-parallel-item\"><div class=\"sk-item\"><div class=\"sk-label-container\"><div class=\"sk-label sk-toggleable\"><label>dt</label></div></div><div class=\"sk-serial\"><div class=\"sk-item\"><div class=\"sk-estimator sk-toggleable\"><input class=\"sk-toggleable__control sk-hidden--visually\" id=\"8a28704e-3854-4e53-b363-587506f4a4cf\" type=\"checkbox\" ><label for=\"8a28704e-3854-4e53-b363-587506f4a4cf\" class=\"sk-toggleable__label sk-toggleable__label-arrow\">DecisionTreeRegressor</label><div class=\"sk-toggleable__content\"><pre>DecisionTreeRegressor()</pre></div></div></div></div></div></div><div class=\"sk-parallel-item\"><div class=\"sk-item\"><div class=\"sk-label-container\"><div class=\"sk-label sk-toggleable\"><label>lr</label></div></div><div class=\"sk-serial\"><div class=\"sk-item\"><div class=\"sk-estimator sk-toggleable\"><input class=\"sk-toggleable__control sk-hidden--visually\" id=\"98cb292b-94b1-4a33-8c75-896b2e55c4c9\" type=\"checkbox\" ><label for=\"98cb292b-94b1-4a33-8c75-896b2e55c4c9\" class=\"sk-toggleable__label sk-toggleable__label-arrow\">LinearRegression</label><div class=\"sk-toggleable__content\"><pre>LinearRegression()</pre></div></div></div></div></div></div><div class=\"sk-parallel-item\"><div class=\"sk-item\"><div class=\"sk-label-container\"><div class=\"sk-label sk-toggleable\"><label>kn</label></div></div><div class=\"sk-serial\"><div class=\"sk-item\"><div class=\"sk-estimator sk-toggleable\"><input class=\"sk-toggleable__control sk-hidden--visually\" id=\"c3d85017-a1e3-4618-b661-f59f70b36f78\" type=\"checkbox\" ><label for=\"c3d85017-a1e3-4618-b661-f59f70b36f78\" class=\"sk-toggleable__label sk-toggleable__label-arrow\">KNeighborsRegressor</label><div class=\"sk-toggleable__content\"><pre>KNeighborsRegressor()</pre></div></div></div></div></div></div><div class=\"sk-parallel-item\"><div class=\"sk-item\"><div class=\"sk-label-container\"><div class=\"sk-label sk-toggleable\"><label>la</label></div></div><div class=\"sk-serial\"><div class=\"sk-item\"><div class=\"sk-estimator sk-toggleable\"><input class=\"sk-toggleable__control sk-hidden--visually\" id=\"c5dba022-20b0-4b2c-b6f2-d1f4f53e57de\" type=\"checkbox\" ><label for=\"c5dba022-20b0-4b2c-b6f2-d1f4f53e57de\" class=\"sk-toggleable__label sk-toggleable__label-arrow\">Lasso</label><div class=\"sk-toggleable__content\"><pre>Lasso(alpha=0.1)</pre></div></div></div></div></div></div></div></div></div></div></div></div>"
      ],
      "text/plain": [
       "Pipeline(steps=[('pre',\n",
       "                 ColumnTransformer(transformers=[('numerical',\n",
       "                                                  Pipeline(steps=[('imputeN',\n",
       "                                                                   SimpleImputer()),\n",
       "                                                                  ('scale',\n",
       "                                                                   StandardScaler())]),\n",
       "                                                  Index(['Ram', 'Weight', 'TouchScreen', 'Ips', 'ppi', 'Hdd', 'Ssd', 'Hybrid',\n",
       "       'Flash_Storage'],\n",
       "      dtype='object')),\n",
       "                                                 ('categorical',\n",
       "                                                  Pipeline(steps=[('imputeN',\n",
       "                                                                   SimpleImputer(strategy='most_frequent')),\n",
       "                                                                  ('encode',\n",
       "                                                                   OneHotEncoder(handle_unknown='ignore'))]),\n",
       "                                                  Index(['Company', 'TypeName', 'Cpu_Brand', 'Gpu_Brand', 'os'], dtype='object'))])),\n",
       "                ('est',\n",
       "                 VotingRegressor(estimators=[('dt', DecisionTreeRegressor()),\n",
       "                                             ('lr', LinearRegression()),\n",
       "                                             ('kn', KNeighborsRegressor()),\n",
       "                                             ('la', Lasso(alpha=0.1))]))])"
      ]
     },
     "execution_count": 25,
     "metadata": {},
     "output_type": "execute_result"
    }
   ],
   "source": [
    "from sklearn import set_config\n",
    "set_config(display='diagram')\n",
    "pipelinemodel1.fit(X_train, y_train)\n"
   ]
  },
  {
   "cell_type": "code",
   "execution_count": 26,
   "id": "662f5a85",
   "metadata": {},
   "outputs": [],
   "source": [
    " ypred1 = pipelinemodel1.predict(X_test)\n"
   ]
  },
  {
   "cell_type": "code",
   "execution_count": 27,
   "id": "4df4ecab",
   "metadata": {},
   "outputs": [
    {
     "name": "stdout",
     "output_type": "stream",
     "text": [
      "Mean Absolute Error: 10475.293460413846\n",
      "Mean Squared Error: 220267139.11279225\n",
      "Root Mean Squared Error: 14841.39949980433\n",
      "R-squared: 0.8108529798862675\n"
     ]
    }
   ],
   "source": [
    "mae = mean_absolute_error(y_test, ypred1)\n",
    "mse = mean_squared_error(y_test, ypred1)\n",
    "rmse = np.sqrt(mse)\n",
    "r2 = r2_score(y_test, ypred1)\n",
    "\n",
    "print(\"Mean Absolute Error:\", mae)\n",
    "print(\"Mean Squared Error:\", mse)\n",
    "print(\"Root Mean Squared Error:\", rmse)\n",
    "print(\"R-squared:\", r2)"
   ]
  },
  {
   "cell_type": "code",
   "execution_count": 28,
   "id": "8645c037",
   "metadata": {},
   "outputs": [
    {
     "name": "stdout",
     "output_type": "stream",
     "text": [
      "0.8999076972875585\n",
      "0.8108529798862675\n"
     ]
    }
   ],
   "source": [
    "print(pipelinemodel1.score(X_train, y_train))\n",
    "print(pipelinemodel1.score(X_test, y_test))"
   ]
  },
  {
   "cell_type": "code",
   "execution_count": null,
   "id": "8de8fd71",
   "metadata": {},
   "outputs": [],
   "source": []
  },
  {
   "cell_type": "markdown",
   "id": "3c5c0b2f",
   "metadata": {},
   "source": [
    "## <font color = \"E38B29\"> pipeline model using stacking\n",
    "\n",
    "\n"
   ]
  },
  {
   "cell_type": "code",
   "execution_count": 29,
   "id": "1d2c5528",
   "metadata": {},
   "outputs": [],
   "source": [
    "from sklearn.ensemble import StackingRegressor\n",
    "m1 = DecisionTreeRegressor()\n",
    "m2 = KNeighborsRegressor()\n",
    "meta = LinearRegression()\n",
    "stack = StackingRegressor(estimators=[('dt',m1),('km',m2)], final_estimator=meta)\n"
   ]
  },
  {
   "cell_type": "code",
   "execution_count": 30,
   "id": "ec42c033",
   "metadata": {},
   "outputs": [],
   "source": [
    "pipelinemodel2 = Pipeline(steps=[\n",
    "    ('pre',preprocessing),\n",
    "    ('est',stack)\n",
    "])"
   ]
  },
  {
   "cell_type": "code",
   "execution_count": 31,
   "id": "b4806a2d",
   "metadata": {},
   "outputs": [
    {
     "data": {
      "text/html": [
       "<style>#sk-8fa5a894-993c-4d16-968a-87b7d8b0b30a {color: black;background-color: white;}#sk-8fa5a894-993c-4d16-968a-87b7d8b0b30a pre{padding: 0;}#sk-8fa5a894-993c-4d16-968a-87b7d8b0b30a div.sk-toggleable {background-color: white;}#sk-8fa5a894-993c-4d16-968a-87b7d8b0b30a label.sk-toggleable__label {cursor: pointer;display: block;width: 100%;margin-bottom: 0;padding: 0.3em;box-sizing: border-box;text-align: center;}#sk-8fa5a894-993c-4d16-968a-87b7d8b0b30a label.sk-toggleable__label-arrow:before {content: \"▸\";float: left;margin-right: 0.25em;color: #696969;}#sk-8fa5a894-993c-4d16-968a-87b7d8b0b30a label.sk-toggleable__label-arrow:hover:before {color: black;}#sk-8fa5a894-993c-4d16-968a-87b7d8b0b30a div.sk-estimator:hover label.sk-toggleable__label-arrow:before {color: black;}#sk-8fa5a894-993c-4d16-968a-87b7d8b0b30a div.sk-toggleable__content {max-height: 0;max-width: 0;overflow: hidden;text-align: left;background-color: #f0f8ff;}#sk-8fa5a894-993c-4d16-968a-87b7d8b0b30a div.sk-toggleable__content pre {margin: 0.2em;color: black;border-radius: 0.25em;background-color: #f0f8ff;}#sk-8fa5a894-993c-4d16-968a-87b7d8b0b30a input.sk-toggleable__control:checked~div.sk-toggleable__content {max-height: 200px;max-width: 100%;overflow: auto;}#sk-8fa5a894-993c-4d16-968a-87b7d8b0b30a input.sk-toggleable__control:checked~label.sk-toggleable__label-arrow:before {content: \"▾\";}#sk-8fa5a894-993c-4d16-968a-87b7d8b0b30a div.sk-estimator input.sk-toggleable__control:checked~label.sk-toggleable__label {background-color: #d4ebff;}#sk-8fa5a894-993c-4d16-968a-87b7d8b0b30a div.sk-label input.sk-toggleable__control:checked~label.sk-toggleable__label {background-color: #d4ebff;}#sk-8fa5a894-993c-4d16-968a-87b7d8b0b30a input.sk-hidden--visually {border: 0;clip: rect(1px 1px 1px 1px);clip: rect(1px, 1px, 1px, 1px);height: 1px;margin: -1px;overflow: hidden;padding: 0;position: absolute;width: 1px;}#sk-8fa5a894-993c-4d16-968a-87b7d8b0b30a div.sk-estimator {font-family: monospace;background-color: #f0f8ff;border: 1px dotted black;border-radius: 0.25em;box-sizing: border-box;margin-bottom: 0.5em;}#sk-8fa5a894-993c-4d16-968a-87b7d8b0b30a div.sk-estimator:hover {background-color: #d4ebff;}#sk-8fa5a894-993c-4d16-968a-87b7d8b0b30a div.sk-parallel-item::after {content: \"\";width: 100%;border-bottom: 1px solid gray;flex-grow: 1;}#sk-8fa5a894-993c-4d16-968a-87b7d8b0b30a div.sk-label:hover label.sk-toggleable__label {background-color: #d4ebff;}#sk-8fa5a894-993c-4d16-968a-87b7d8b0b30a div.sk-serial::before {content: \"\";position: absolute;border-left: 1px solid gray;box-sizing: border-box;top: 2em;bottom: 0;left: 50%;}#sk-8fa5a894-993c-4d16-968a-87b7d8b0b30a div.sk-serial {display: flex;flex-direction: column;align-items: center;background-color: white;padding-right: 0.2em;padding-left: 0.2em;}#sk-8fa5a894-993c-4d16-968a-87b7d8b0b30a div.sk-item {z-index: 1;}#sk-8fa5a894-993c-4d16-968a-87b7d8b0b30a div.sk-parallel {display: flex;align-items: stretch;justify-content: center;background-color: white;}#sk-8fa5a894-993c-4d16-968a-87b7d8b0b30a div.sk-parallel::before {content: \"\";position: absolute;border-left: 1px solid gray;box-sizing: border-box;top: 2em;bottom: 0;left: 50%;}#sk-8fa5a894-993c-4d16-968a-87b7d8b0b30a div.sk-parallel-item {display: flex;flex-direction: column;position: relative;background-color: white;}#sk-8fa5a894-993c-4d16-968a-87b7d8b0b30a div.sk-parallel-item:first-child::after {align-self: flex-end;width: 50%;}#sk-8fa5a894-993c-4d16-968a-87b7d8b0b30a div.sk-parallel-item:last-child::after {align-self: flex-start;width: 50%;}#sk-8fa5a894-993c-4d16-968a-87b7d8b0b30a div.sk-parallel-item:only-child::after {width: 0;}#sk-8fa5a894-993c-4d16-968a-87b7d8b0b30a div.sk-dashed-wrapped {border: 1px dashed gray;margin: 0 0.4em 0.5em 0.4em;box-sizing: border-box;padding-bottom: 0.4em;background-color: white;position: relative;}#sk-8fa5a894-993c-4d16-968a-87b7d8b0b30a div.sk-label label {font-family: monospace;font-weight: bold;background-color: white;display: inline-block;line-height: 1.2em;}#sk-8fa5a894-993c-4d16-968a-87b7d8b0b30a div.sk-label-container {position: relative;z-index: 2;text-align: center;}#sk-8fa5a894-993c-4d16-968a-87b7d8b0b30a div.sk-container {/* jupyter's `normalize.less` sets `[hidden] { display: none; }` but bootstrap.min.css set `[hidden] { display: none !important; }` so we also need the `!important` here to be able to override the default hidden behavior on the sphinx rendered scikit-learn.org. See: https://github.com/scikit-learn/scikit-learn/issues/21755 */display: inline-block !important;position: relative;}#sk-8fa5a894-993c-4d16-968a-87b7d8b0b30a div.sk-text-repr-fallback {display: none;}</style><div id=\"sk-8fa5a894-993c-4d16-968a-87b7d8b0b30a\" class=\"sk-top-container\"><div class=\"sk-text-repr-fallback\"><pre>Pipeline(steps=[(&#x27;pre&#x27;,\n",
       "                 ColumnTransformer(transformers=[(&#x27;numerical&#x27;,\n",
       "                                                  Pipeline(steps=[(&#x27;imputeN&#x27;,\n",
       "                                                                   SimpleImputer()),\n",
       "                                                                  (&#x27;scale&#x27;,\n",
       "                                                                   StandardScaler())]),\n",
       "                                                  Index([&#x27;Ram&#x27;, &#x27;Weight&#x27;, &#x27;TouchScreen&#x27;, &#x27;Ips&#x27;, &#x27;ppi&#x27;, &#x27;Hdd&#x27;, &#x27;Ssd&#x27;, &#x27;Hybrid&#x27;,\n",
       "       &#x27;Flash_Storage&#x27;],\n",
       "      dtype=&#x27;object&#x27;)),\n",
       "                                                 (&#x27;categorical&#x27;,\n",
       "                                                  Pipeline(steps=[(&#x27;imputeN&#x27;,\n",
       "                                                                   SimpleImputer(strategy=&#x27;most_frequent&#x27;)),\n",
       "                                                                  (&#x27;encode&#x27;,\n",
       "                                                                   OneHotEncoder(handle_unknown=&#x27;ignore&#x27;))]),\n",
       "                                                  Index([&#x27;Company&#x27;, &#x27;TypeName&#x27;, &#x27;Cpu_Brand&#x27;, &#x27;Gpu_Brand&#x27;, &#x27;os&#x27;], dtype=&#x27;object&#x27;))])),\n",
       "                (&#x27;est&#x27;,\n",
       "                 StackingRegressor(estimators=[(&#x27;dt&#x27;, DecisionTreeRegressor()),\n",
       "                                               (&#x27;km&#x27;, KNeighborsRegressor())],\n",
       "                                   final_estimator=LinearRegression()))])</pre><b>Please rerun this cell to show the HTML repr or trust the notebook.</b></div><div class=\"sk-container\" hidden><div class=\"sk-item sk-dashed-wrapped\"><div class=\"sk-label-container\"><div class=\"sk-label sk-toggleable\"><input class=\"sk-toggleable__control sk-hidden--visually\" id=\"e4efdfb5-68f3-4698-95cb-9491a8ae7713\" type=\"checkbox\" ><label for=\"e4efdfb5-68f3-4698-95cb-9491a8ae7713\" class=\"sk-toggleable__label sk-toggleable__label-arrow\">Pipeline</label><div class=\"sk-toggleable__content\"><pre>Pipeline(steps=[(&#x27;pre&#x27;,\n",
       "                 ColumnTransformer(transformers=[(&#x27;numerical&#x27;,\n",
       "                                                  Pipeline(steps=[(&#x27;imputeN&#x27;,\n",
       "                                                                   SimpleImputer()),\n",
       "                                                                  (&#x27;scale&#x27;,\n",
       "                                                                   StandardScaler())]),\n",
       "                                                  Index([&#x27;Ram&#x27;, &#x27;Weight&#x27;, &#x27;TouchScreen&#x27;, &#x27;Ips&#x27;, &#x27;ppi&#x27;, &#x27;Hdd&#x27;, &#x27;Ssd&#x27;, &#x27;Hybrid&#x27;,\n",
       "       &#x27;Flash_Storage&#x27;],\n",
       "      dtype=&#x27;object&#x27;)),\n",
       "                                                 (&#x27;categorical&#x27;,\n",
       "                                                  Pipeline(steps=[(&#x27;imputeN&#x27;,\n",
       "                                                                   SimpleImputer(strategy=&#x27;most_frequent&#x27;)),\n",
       "                                                                  (&#x27;encode&#x27;,\n",
       "                                                                   OneHotEncoder(handle_unknown=&#x27;ignore&#x27;))]),\n",
       "                                                  Index([&#x27;Company&#x27;, &#x27;TypeName&#x27;, &#x27;Cpu_Brand&#x27;, &#x27;Gpu_Brand&#x27;, &#x27;os&#x27;], dtype=&#x27;object&#x27;))])),\n",
       "                (&#x27;est&#x27;,\n",
       "                 StackingRegressor(estimators=[(&#x27;dt&#x27;, DecisionTreeRegressor()),\n",
       "                                               (&#x27;km&#x27;, KNeighborsRegressor())],\n",
       "                                   final_estimator=LinearRegression()))])</pre></div></div></div><div class=\"sk-serial\"><div class=\"sk-item sk-dashed-wrapped\"><div class=\"sk-label-container\"><div class=\"sk-label sk-toggleable\"><input class=\"sk-toggleable__control sk-hidden--visually\" id=\"be633e3a-99de-4544-8796-adab35234b3a\" type=\"checkbox\" ><label for=\"be633e3a-99de-4544-8796-adab35234b3a\" class=\"sk-toggleable__label sk-toggleable__label-arrow\">pre: ColumnTransformer</label><div class=\"sk-toggleable__content\"><pre>ColumnTransformer(transformers=[(&#x27;numerical&#x27;,\n",
       "                                 Pipeline(steps=[(&#x27;imputeN&#x27;, SimpleImputer()),\n",
       "                                                 (&#x27;scale&#x27;, StandardScaler())]),\n",
       "                                 Index([&#x27;Ram&#x27;, &#x27;Weight&#x27;, &#x27;TouchScreen&#x27;, &#x27;Ips&#x27;, &#x27;ppi&#x27;, &#x27;Hdd&#x27;, &#x27;Ssd&#x27;, &#x27;Hybrid&#x27;,\n",
       "       &#x27;Flash_Storage&#x27;],\n",
       "      dtype=&#x27;object&#x27;)),\n",
       "                                (&#x27;categorical&#x27;,\n",
       "                                 Pipeline(steps=[(&#x27;imputeN&#x27;,\n",
       "                                                  SimpleImputer(strategy=&#x27;most_frequent&#x27;)),\n",
       "                                                 (&#x27;encode&#x27;,\n",
       "                                                  OneHotEncoder(handle_unknown=&#x27;ignore&#x27;))]),\n",
       "                                 Index([&#x27;Company&#x27;, &#x27;TypeName&#x27;, &#x27;Cpu_Brand&#x27;, &#x27;Gpu_Brand&#x27;, &#x27;os&#x27;], dtype=&#x27;object&#x27;))])</pre></div></div></div><div class=\"sk-parallel\"><div class=\"sk-parallel-item\"><div class=\"sk-item\"><div class=\"sk-label-container\"><div class=\"sk-label sk-toggleable\"><input class=\"sk-toggleable__control sk-hidden--visually\" id=\"4c08cada-b568-4684-b425-279fd5a2ba43\" type=\"checkbox\" ><label for=\"4c08cada-b568-4684-b425-279fd5a2ba43\" class=\"sk-toggleable__label sk-toggleable__label-arrow\">numerical</label><div class=\"sk-toggleable__content\"><pre>Index([&#x27;Ram&#x27;, &#x27;Weight&#x27;, &#x27;TouchScreen&#x27;, &#x27;Ips&#x27;, &#x27;ppi&#x27;, &#x27;Hdd&#x27;, &#x27;Ssd&#x27;, &#x27;Hybrid&#x27;,\n",
       "       &#x27;Flash_Storage&#x27;],\n",
       "      dtype=&#x27;object&#x27;)</pre></div></div></div><div class=\"sk-serial\"><div class=\"sk-item\"><div class=\"sk-serial\"><div class=\"sk-item\"><div class=\"sk-estimator sk-toggleable\"><input class=\"sk-toggleable__control sk-hidden--visually\" id=\"06e748ba-c3fc-4279-bfe9-522123a26591\" type=\"checkbox\" ><label for=\"06e748ba-c3fc-4279-bfe9-522123a26591\" class=\"sk-toggleable__label sk-toggleable__label-arrow\">SimpleImputer</label><div class=\"sk-toggleable__content\"><pre>SimpleImputer()</pre></div></div></div><div class=\"sk-item\"><div class=\"sk-estimator sk-toggleable\"><input class=\"sk-toggleable__control sk-hidden--visually\" id=\"18fa5b1d-d5c8-48ad-8583-6a7ec9eefb50\" type=\"checkbox\" ><label for=\"18fa5b1d-d5c8-48ad-8583-6a7ec9eefb50\" class=\"sk-toggleable__label sk-toggleable__label-arrow\">StandardScaler</label><div class=\"sk-toggleable__content\"><pre>StandardScaler()</pre></div></div></div></div></div></div></div></div><div class=\"sk-parallel-item\"><div class=\"sk-item\"><div class=\"sk-label-container\"><div class=\"sk-label sk-toggleable\"><input class=\"sk-toggleable__control sk-hidden--visually\" id=\"d6f522e5-d98a-4031-b937-bd4bb90cbf60\" type=\"checkbox\" ><label for=\"d6f522e5-d98a-4031-b937-bd4bb90cbf60\" class=\"sk-toggleable__label sk-toggleable__label-arrow\">categorical</label><div class=\"sk-toggleable__content\"><pre>Index([&#x27;Company&#x27;, &#x27;TypeName&#x27;, &#x27;Cpu_Brand&#x27;, &#x27;Gpu_Brand&#x27;, &#x27;os&#x27;], dtype=&#x27;object&#x27;)</pre></div></div></div><div class=\"sk-serial\"><div class=\"sk-item\"><div class=\"sk-serial\"><div class=\"sk-item\"><div class=\"sk-estimator sk-toggleable\"><input class=\"sk-toggleable__control sk-hidden--visually\" id=\"89e97402-a9b4-4a66-8809-1051abe42e36\" type=\"checkbox\" ><label for=\"89e97402-a9b4-4a66-8809-1051abe42e36\" class=\"sk-toggleable__label sk-toggleable__label-arrow\">SimpleImputer</label><div class=\"sk-toggleable__content\"><pre>SimpleImputer(strategy=&#x27;most_frequent&#x27;)</pre></div></div></div><div class=\"sk-item\"><div class=\"sk-estimator sk-toggleable\"><input class=\"sk-toggleable__control sk-hidden--visually\" id=\"8a7a3f7f-9a02-4eb6-9913-79792db4c390\" type=\"checkbox\" ><label for=\"8a7a3f7f-9a02-4eb6-9913-79792db4c390\" class=\"sk-toggleable__label sk-toggleable__label-arrow\">OneHotEncoder</label><div class=\"sk-toggleable__content\"><pre>OneHotEncoder(handle_unknown=&#x27;ignore&#x27;)</pre></div></div></div></div></div></div></div></div></div></div><div class=\"sk-item\"><div class=\"sk-label-container\"><div class=\"sk-label sk-toggleable\"><input class=\"sk-toggleable__control sk-hidden--visually\" id=\"7f7825ee-c1d8-4a08-9cb6-a880c9b6b3ac\" type=\"checkbox\" ><label for=\"7f7825ee-c1d8-4a08-9cb6-a880c9b6b3ac\" class=\"sk-toggleable__label sk-toggleable__label-arrow\">est: StackingRegressor</label><div class=\"sk-toggleable__content\"><pre>StackingRegressor(estimators=[(&#x27;dt&#x27;, DecisionTreeRegressor()),\n",
       "                              (&#x27;km&#x27;, KNeighborsRegressor())],\n",
       "                  final_estimator=LinearRegression())</pre></div></div></div><div class=\"sk-serial\"><div class=\"sk-item\"><div class=\"sk-parallel\"><div class=\"sk-parallel-item\"><div class=\"sk-item\"><div class=\"sk-label-container\"><div class=\"sk-label sk-toggleable\"><label>dt</label></div></div><div class=\"sk-serial\"><div class=\"sk-item\"><div class=\"sk-estimator sk-toggleable\"><input class=\"sk-toggleable__control sk-hidden--visually\" id=\"921dd42d-e786-41b3-9aa2-c44670511f6c\" type=\"checkbox\" ><label for=\"921dd42d-e786-41b3-9aa2-c44670511f6c\" class=\"sk-toggleable__label sk-toggleable__label-arrow\">DecisionTreeRegressor</label><div class=\"sk-toggleable__content\"><pre>DecisionTreeRegressor()</pre></div></div></div></div></div></div><div class=\"sk-parallel-item\"><div class=\"sk-item\"><div class=\"sk-label-container\"><div class=\"sk-label sk-toggleable\"><label>km</label></div></div><div class=\"sk-serial\"><div class=\"sk-item\"><div class=\"sk-estimator sk-toggleable\"><input class=\"sk-toggleable__control sk-hidden--visually\" id=\"cb04d2c2-ac9d-4881-bd16-bcd43d42fc30\" type=\"checkbox\" ><label for=\"cb04d2c2-ac9d-4881-bd16-bcd43d42fc30\" class=\"sk-toggleable__label sk-toggleable__label-arrow\">KNeighborsRegressor</label><div class=\"sk-toggleable__content\"><pre>KNeighborsRegressor()</pre></div></div></div></div></div></div></div></div><div class=\"sk-item\"><div class=\"sk-parallel\"><div class=\"sk-parallel-item\"><div class=\"sk-item\"><div class=\"sk-label-container\"><div class=\"sk-label sk-toggleable\"><label>final_estimator</label></div></div><div class=\"sk-serial\"><div class=\"sk-item\"><div class=\"sk-estimator sk-toggleable\"><input class=\"sk-toggleable__control sk-hidden--visually\" id=\"5d9eb014-d2c4-460b-81f4-38ed6c8523d3\" type=\"checkbox\" ><label for=\"5d9eb014-d2c4-460b-81f4-38ed6c8523d3\" class=\"sk-toggleable__label sk-toggleable__label-arrow\">LinearRegression</label><div class=\"sk-toggleable__content\"><pre>LinearRegression()</pre></div></div></div></div></div></div></div></div></div></div></div></div></div></div>"
      ],
      "text/plain": [
       "Pipeline(steps=[('pre',\n",
       "                 ColumnTransformer(transformers=[('numerical',\n",
       "                                                  Pipeline(steps=[('imputeN',\n",
       "                                                                   SimpleImputer()),\n",
       "                                                                  ('scale',\n",
       "                                                                   StandardScaler())]),\n",
       "                                                  Index(['Ram', 'Weight', 'TouchScreen', 'Ips', 'ppi', 'Hdd', 'Ssd', 'Hybrid',\n",
       "       'Flash_Storage'],\n",
       "      dtype='object')),\n",
       "                                                 ('categorical',\n",
       "                                                  Pipeline(steps=[('imputeN',\n",
       "                                                                   SimpleImputer(strategy='most_frequent')),\n",
       "                                                                  ('encode',\n",
       "                                                                   OneHotEncoder(handle_unknown='ignore'))]),\n",
       "                                                  Index(['Company', 'TypeName', 'Cpu_Brand', 'Gpu_Brand', 'os'], dtype='object'))])),\n",
       "                ('est',\n",
       "                 StackingRegressor(estimators=[('dt', DecisionTreeRegressor()),\n",
       "                                               ('km', KNeighborsRegressor())],\n",
       "                                   final_estimator=LinearRegression()))])"
      ]
     },
     "execution_count": 31,
     "metadata": {},
     "output_type": "execute_result"
    }
   ],
   "source": [
    "from sklearn import set_config\n",
    "set_config(display='diagram')\n",
    "pipelinemodel2.fit(X_train, y_train)"
   ]
  },
  {
   "cell_type": "code",
   "execution_count": 32,
   "id": "74aad627",
   "metadata": {},
   "outputs": [],
   "source": [
    " ypred2 = pipelinemodel2.predict(X_test)"
   ]
  },
  {
   "cell_type": "code",
   "execution_count": 33,
   "id": "71108899",
   "metadata": {},
   "outputs": [
    {
     "name": "stdout",
     "output_type": "stream",
     "text": [
      "Mean Absolute Error: 11560.546543858349\n",
      "Mean Squared Error: 284380427.8353629\n",
      "Root Mean Squared Error: 16863.58288844227\n",
      "R-squared: 0.7557978429266149\n"
     ]
    }
   ],
   "source": [
    "mae = mean_absolute_error(y_test, ypred2)\n",
    "mse = mean_squared_error(y_test, ypred2)\n",
    "rmse = np.sqrt(mse)\n",
    "r2 = r2_score(y_test, ypred2)\n",
    "\n",
    "print(\"Mean Absolute Error:\", mae)\n",
    "print(\"Mean Squared Error:\", mse)\n",
    "print(\"Root Mean Squared Error:\", rmse)\n",
    "print(\"R-squared:\", r2)"
   ]
  },
  {
   "cell_type": "code",
   "execution_count": 34,
   "id": "59d5cf47",
   "metadata": {},
   "outputs": [
    {
     "name": "stdout",
     "output_type": "stream",
     "text": [
      "0.9384735150317042\n",
      "0.7557978429266149\n"
     ]
    }
   ],
   "source": [
    "print(pipelinemodel2.score(X_train, y_train))\n",
    "print(pipelinemodel2.score(X_test, y_test))"
   ]
  },
  {
   "cell_type": "code",
   "execution_count": null,
   "id": "128c8ad3",
   "metadata": {},
   "outputs": [],
   "source": []
  },
  {
   "cell_type": "markdown",
   "id": "6de68927",
   "metadata": {},
   "source": [
    "## <font color = \"E38B29\"> pipeline model using boosting\n",
    "\n",
    "\n"
   ]
  },
  {
   "cell_type": "code",
   "execution_count": 35,
   "id": "1a06592f",
   "metadata": {},
   "outputs": [],
   "source": [
    "from sklearn.ensemble import AdaBoostRegressor\n",
    "from sklearn.linear_model import Lasso\n",
    "base_estimator = DecisionTreeRegressor(max_depth=5)\n",
    "ada_boost = AdaBoostRegressor(base_estimator = base_estimator, n_estimators = 10, random_state = 1)"
   ]
  },
  {
   "cell_type": "code",
   "execution_count": 36,
   "id": "809d896e",
   "metadata": {},
   "outputs": [],
   "source": [
    "pipelinemodel3 = Pipeline(steps=[\n",
    "    ('pre',preprocessing),\n",
    "    ('est',ada_boost)\n",
    "])"
   ]
  },
  {
   "cell_type": "code",
   "execution_count": 37,
   "id": "6293e7a8",
   "metadata": {},
   "outputs": [
    {
     "data": {
      "text/html": [
       "<style>#sk-17b4e3d2-5fcd-432c-9d30-3100efa82fc8 {color: black;background-color: white;}#sk-17b4e3d2-5fcd-432c-9d30-3100efa82fc8 pre{padding: 0;}#sk-17b4e3d2-5fcd-432c-9d30-3100efa82fc8 div.sk-toggleable {background-color: white;}#sk-17b4e3d2-5fcd-432c-9d30-3100efa82fc8 label.sk-toggleable__label {cursor: pointer;display: block;width: 100%;margin-bottom: 0;padding: 0.3em;box-sizing: border-box;text-align: center;}#sk-17b4e3d2-5fcd-432c-9d30-3100efa82fc8 label.sk-toggleable__label-arrow:before {content: \"▸\";float: left;margin-right: 0.25em;color: #696969;}#sk-17b4e3d2-5fcd-432c-9d30-3100efa82fc8 label.sk-toggleable__label-arrow:hover:before {color: black;}#sk-17b4e3d2-5fcd-432c-9d30-3100efa82fc8 div.sk-estimator:hover label.sk-toggleable__label-arrow:before {color: black;}#sk-17b4e3d2-5fcd-432c-9d30-3100efa82fc8 div.sk-toggleable__content {max-height: 0;max-width: 0;overflow: hidden;text-align: left;background-color: #f0f8ff;}#sk-17b4e3d2-5fcd-432c-9d30-3100efa82fc8 div.sk-toggleable__content pre {margin: 0.2em;color: black;border-radius: 0.25em;background-color: #f0f8ff;}#sk-17b4e3d2-5fcd-432c-9d30-3100efa82fc8 input.sk-toggleable__control:checked~div.sk-toggleable__content {max-height: 200px;max-width: 100%;overflow: auto;}#sk-17b4e3d2-5fcd-432c-9d30-3100efa82fc8 input.sk-toggleable__control:checked~label.sk-toggleable__label-arrow:before {content: \"▾\";}#sk-17b4e3d2-5fcd-432c-9d30-3100efa82fc8 div.sk-estimator input.sk-toggleable__control:checked~label.sk-toggleable__label {background-color: #d4ebff;}#sk-17b4e3d2-5fcd-432c-9d30-3100efa82fc8 div.sk-label input.sk-toggleable__control:checked~label.sk-toggleable__label {background-color: #d4ebff;}#sk-17b4e3d2-5fcd-432c-9d30-3100efa82fc8 input.sk-hidden--visually {border: 0;clip: rect(1px 1px 1px 1px);clip: rect(1px, 1px, 1px, 1px);height: 1px;margin: -1px;overflow: hidden;padding: 0;position: absolute;width: 1px;}#sk-17b4e3d2-5fcd-432c-9d30-3100efa82fc8 div.sk-estimator {font-family: monospace;background-color: #f0f8ff;border: 1px dotted black;border-radius: 0.25em;box-sizing: border-box;margin-bottom: 0.5em;}#sk-17b4e3d2-5fcd-432c-9d30-3100efa82fc8 div.sk-estimator:hover {background-color: #d4ebff;}#sk-17b4e3d2-5fcd-432c-9d30-3100efa82fc8 div.sk-parallel-item::after {content: \"\";width: 100%;border-bottom: 1px solid gray;flex-grow: 1;}#sk-17b4e3d2-5fcd-432c-9d30-3100efa82fc8 div.sk-label:hover label.sk-toggleable__label {background-color: #d4ebff;}#sk-17b4e3d2-5fcd-432c-9d30-3100efa82fc8 div.sk-serial::before {content: \"\";position: absolute;border-left: 1px solid gray;box-sizing: border-box;top: 2em;bottom: 0;left: 50%;}#sk-17b4e3d2-5fcd-432c-9d30-3100efa82fc8 div.sk-serial {display: flex;flex-direction: column;align-items: center;background-color: white;padding-right: 0.2em;padding-left: 0.2em;}#sk-17b4e3d2-5fcd-432c-9d30-3100efa82fc8 div.sk-item {z-index: 1;}#sk-17b4e3d2-5fcd-432c-9d30-3100efa82fc8 div.sk-parallel {display: flex;align-items: stretch;justify-content: center;background-color: white;}#sk-17b4e3d2-5fcd-432c-9d30-3100efa82fc8 div.sk-parallel::before {content: \"\";position: absolute;border-left: 1px solid gray;box-sizing: border-box;top: 2em;bottom: 0;left: 50%;}#sk-17b4e3d2-5fcd-432c-9d30-3100efa82fc8 div.sk-parallel-item {display: flex;flex-direction: column;position: relative;background-color: white;}#sk-17b4e3d2-5fcd-432c-9d30-3100efa82fc8 div.sk-parallel-item:first-child::after {align-self: flex-end;width: 50%;}#sk-17b4e3d2-5fcd-432c-9d30-3100efa82fc8 div.sk-parallel-item:last-child::after {align-self: flex-start;width: 50%;}#sk-17b4e3d2-5fcd-432c-9d30-3100efa82fc8 div.sk-parallel-item:only-child::after {width: 0;}#sk-17b4e3d2-5fcd-432c-9d30-3100efa82fc8 div.sk-dashed-wrapped {border: 1px dashed gray;margin: 0 0.4em 0.5em 0.4em;box-sizing: border-box;padding-bottom: 0.4em;background-color: white;position: relative;}#sk-17b4e3d2-5fcd-432c-9d30-3100efa82fc8 div.sk-label label {font-family: monospace;font-weight: bold;background-color: white;display: inline-block;line-height: 1.2em;}#sk-17b4e3d2-5fcd-432c-9d30-3100efa82fc8 div.sk-label-container {position: relative;z-index: 2;text-align: center;}#sk-17b4e3d2-5fcd-432c-9d30-3100efa82fc8 div.sk-container {/* jupyter's `normalize.less` sets `[hidden] { display: none; }` but bootstrap.min.css set `[hidden] { display: none !important; }` so we also need the `!important` here to be able to override the default hidden behavior on the sphinx rendered scikit-learn.org. See: https://github.com/scikit-learn/scikit-learn/issues/21755 */display: inline-block !important;position: relative;}#sk-17b4e3d2-5fcd-432c-9d30-3100efa82fc8 div.sk-text-repr-fallback {display: none;}</style><div id=\"sk-17b4e3d2-5fcd-432c-9d30-3100efa82fc8\" class=\"sk-top-container\"><div class=\"sk-text-repr-fallback\"><pre>Pipeline(steps=[(&#x27;pre&#x27;,\n",
       "                 ColumnTransformer(transformers=[(&#x27;numerical&#x27;,\n",
       "                                                  Pipeline(steps=[(&#x27;imputeN&#x27;,\n",
       "                                                                   SimpleImputer()),\n",
       "                                                                  (&#x27;scale&#x27;,\n",
       "                                                                   StandardScaler())]),\n",
       "                                                  Index([&#x27;Ram&#x27;, &#x27;Weight&#x27;, &#x27;TouchScreen&#x27;, &#x27;Ips&#x27;, &#x27;ppi&#x27;, &#x27;Hdd&#x27;, &#x27;Ssd&#x27;, &#x27;Hybrid&#x27;,\n",
       "       &#x27;Flash_Storage&#x27;],\n",
       "      dtype=&#x27;object&#x27;)),\n",
       "                                                 (&#x27;categorical&#x27;,\n",
       "                                                  Pipeline(steps=[(&#x27;imputeN&#x27;,\n",
       "                                                                   SimpleImputer(strategy=&#x27;most_frequent&#x27;)),\n",
       "                                                                  (&#x27;encode&#x27;,\n",
       "                                                                   OneHotEncoder(handle_unknown=&#x27;ignore&#x27;))]),\n",
       "                                                  Index([&#x27;Company&#x27;, &#x27;TypeName&#x27;, &#x27;Cpu_Brand&#x27;, &#x27;Gpu_Brand&#x27;, &#x27;os&#x27;], dtype=&#x27;object&#x27;))])),\n",
       "                (&#x27;est&#x27;,\n",
       "                 AdaBoostRegressor(base_estimator=DecisionTreeRegressor(max_depth=5),\n",
       "                                   n_estimators=10, random_state=1))])</pre><b>Please rerun this cell to show the HTML repr or trust the notebook.</b></div><div class=\"sk-container\" hidden><div class=\"sk-item sk-dashed-wrapped\"><div class=\"sk-label-container\"><div class=\"sk-label sk-toggleable\"><input class=\"sk-toggleable__control sk-hidden--visually\" id=\"b6d987fd-792e-4117-a2a8-162dafba8dc9\" type=\"checkbox\" ><label for=\"b6d987fd-792e-4117-a2a8-162dafba8dc9\" class=\"sk-toggleable__label sk-toggleable__label-arrow\">Pipeline</label><div class=\"sk-toggleable__content\"><pre>Pipeline(steps=[(&#x27;pre&#x27;,\n",
       "                 ColumnTransformer(transformers=[(&#x27;numerical&#x27;,\n",
       "                                                  Pipeline(steps=[(&#x27;imputeN&#x27;,\n",
       "                                                                   SimpleImputer()),\n",
       "                                                                  (&#x27;scale&#x27;,\n",
       "                                                                   StandardScaler())]),\n",
       "                                                  Index([&#x27;Ram&#x27;, &#x27;Weight&#x27;, &#x27;TouchScreen&#x27;, &#x27;Ips&#x27;, &#x27;ppi&#x27;, &#x27;Hdd&#x27;, &#x27;Ssd&#x27;, &#x27;Hybrid&#x27;,\n",
       "       &#x27;Flash_Storage&#x27;],\n",
       "      dtype=&#x27;object&#x27;)),\n",
       "                                                 (&#x27;categorical&#x27;,\n",
       "                                                  Pipeline(steps=[(&#x27;imputeN&#x27;,\n",
       "                                                                   SimpleImputer(strategy=&#x27;most_frequent&#x27;)),\n",
       "                                                                  (&#x27;encode&#x27;,\n",
       "                                                                   OneHotEncoder(handle_unknown=&#x27;ignore&#x27;))]),\n",
       "                                                  Index([&#x27;Company&#x27;, &#x27;TypeName&#x27;, &#x27;Cpu_Brand&#x27;, &#x27;Gpu_Brand&#x27;, &#x27;os&#x27;], dtype=&#x27;object&#x27;))])),\n",
       "                (&#x27;est&#x27;,\n",
       "                 AdaBoostRegressor(base_estimator=DecisionTreeRegressor(max_depth=5),\n",
       "                                   n_estimators=10, random_state=1))])</pre></div></div></div><div class=\"sk-serial\"><div class=\"sk-item sk-dashed-wrapped\"><div class=\"sk-label-container\"><div class=\"sk-label sk-toggleable\"><input class=\"sk-toggleable__control sk-hidden--visually\" id=\"4635ec17-bb02-4bcc-b1bb-cf8ab80c6c1f\" type=\"checkbox\" ><label for=\"4635ec17-bb02-4bcc-b1bb-cf8ab80c6c1f\" class=\"sk-toggleable__label sk-toggleable__label-arrow\">pre: ColumnTransformer</label><div class=\"sk-toggleable__content\"><pre>ColumnTransformer(transformers=[(&#x27;numerical&#x27;,\n",
       "                                 Pipeline(steps=[(&#x27;imputeN&#x27;, SimpleImputer()),\n",
       "                                                 (&#x27;scale&#x27;, StandardScaler())]),\n",
       "                                 Index([&#x27;Ram&#x27;, &#x27;Weight&#x27;, &#x27;TouchScreen&#x27;, &#x27;Ips&#x27;, &#x27;ppi&#x27;, &#x27;Hdd&#x27;, &#x27;Ssd&#x27;, &#x27;Hybrid&#x27;,\n",
       "       &#x27;Flash_Storage&#x27;],\n",
       "      dtype=&#x27;object&#x27;)),\n",
       "                                (&#x27;categorical&#x27;,\n",
       "                                 Pipeline(steps=[(&#x27;imputeN&#x27;,\n",
       "                                                  SimpleImputer(strategy=&#x27;most_frequent&#x27;)),\n",
       "                                                 (&#x27;encode&#x27;,\n",
       "                                                  OneHotEncoder(handle_unknown=&#x27;ignore&#x27;))]),\n",
       "                                 Index([&#x27;Company&#x27;, &#x27;TypeName&#x27;, &#x27;Cpu_Brand&#x27;, &#x27;Gpu_Brand&#x27;, &#x27;os&#x27;], dtype=&#x27;object&#x27;))])</pre></div></div></div><div class=\"sk-parallel\"><div class=\"sk-parallel-item\"><div class=\"sk-item\"><div class=\"sk-label-container\"><div class=\"sk-label sk-toggleable\"><input class=\"sk-toggleable__control sk-hidden--visually\" id=\"dd0510f8-045e-460a-a95f-c306a6821f15\" type=\"checkbox\" ><label for=\"dd0510f8-045e-460a-a95f-c306a6821f15\" class=\"sk-toggleable__label sk-toggleable__label-arrow\">numerical</label><div class=\"sk-toggleable__content\"><pre>Index([&#x27;Ram&#x27;, &#x27;Weight&#x27;, &#x27;TouchScreen&#x27;, &#x27;Ips&#x27;, &#x27;ppi&#x27;, &#x27;Hdd&#x27;, &#x27;Ssd&#x27;, &#x27;Hybrid&#x27;,\n",
       "       &#x27;Flash_Storage&#x27;],\n",
       "      dtype=&#x27;object&#x27;)</pre></div></div></div><div class=\"sk-serial\"><div class=\"sk-item\"><div class=\"sk-serial\"><div class=\"sk-item\"><div class=\"sk-estimator sk-toggleable\"><input class=\"sk-toggleable__control sk-hidden--visually\" id=\"57958711-e7ed-4ec8-95c2-6380f44bc9eb\" type=\"checkbox\" ><label for=\"57958711-e7ed-4ec8-95c2-6380f44bc9eb\" class=\"sk-toggleable__label sk-toggleable__label-arrow\">SimpleImputer</label><div class=\"sk-toggleable__content\"><pre>SimpleImputer()</pre></div></div></div><div class=\"sk-item\"><div class=\"sk-estimator sk-toggleable\"><input class=\"sk-toggleable__control sk-hidden--visually\" id=\"4ab34cef-6747-45f4-9259-ca5bf029aa59\" type=\"checkbox\" ><label for=\"4ab34cef-6747-45f4-9259-ca5bf029aa59\" class=\"sk-toggleable__label sk-toggleable__label-arrow\">StandardScaler</label><div class=\"sk-toggleable__content\"><pre>StandardScaler()</pre></div></div></div></div></div></div></div></div><div class=\"sk-parallel-item\"><div class=\"sk-item\"><div class=\"sk-label-container\"><div class=\"sk-label sk-toggleable\"><input class=\"sk-toggleable__control sk-hidden--visually\" id=\"3300bd88-388d-4dca-8ec5-69cba273998b\" type=\"checkbox\" ><label for=\"3300bd88-388d-4dca-8ec5-69cba273998b\" class=\"sk-toggleable__label sk-toggleable__label-arrow\">categorical</label><div class=\"sk-toggleable__content\"><pre>Index([&#x27;Company&#x27;, &#x27;TypeName&#x27;, &#x27;Cpu_Brand&#x27;, &#x27;Gpu_Brand&#x27;, &#x27;os&#x27;], dtype=&#x27;object&#x27;)</pre></div></div></div><div class=\"sk-serial\"><div class=\"sk-item\"><div class=\"sk-serial\"><div class=\"sk-item\"><div class=\"sk-estimator sk-toggleable\"><input class=\"sk-toggleable__control sk-hidden--visually\" id=\"852dc909-8cf0-4c93-b2a9-48e51589068b\" type=\"checkbox\" ><label for=\"852dc909-8cf0-4c93-b2a9-48e51589068b\" class=\"sk-toggleable__label sk-toggleable__label-arrow\">SimpleImputer</label><div class=\"sk-toggleable__content\"><pre>SimpleImputer(strategy=&#x27;most_frequent&#x27;)</pre></div></div></div><div class=\"sk-item\"><div class=\"sk-estimator sk-toggleable\"><input class=\"sk-toggleable__control sk-hidden--visually\" id=\"4e083426-ca95-4d96-b1b3-9b7516776ad6\" type=\"checkbox\" ><label for=\"4e083426-ca95-4d96-b1b3-9b7516776ad6\" class=\"sk-toggleable__label sk-toggleable__label-arrow\">OneHotEncoder</label><div class=\"sk-toggleable__content\"><pre>OneHotEncoder(handle_unknown=&#x27;ignore&#x27;)</pre></div></div></div></div></div></div></div></div></div></div><div class=\"sk-item sk-dashed-wrapped\"><div class=\"sk-label-container\"><div class=\"sk-label sk-toggleable\"><input class=\"sk-toggleable__control sk-hidden--visually\" id=\"1a95e12d-71b4-4923-a525-b59b663ec1b3\" type=\"checkbox\" ><label for=\"1a95e12d-71b4-4923-a525-b59b663ec1b3\" class=\"sk-toggleable__label sk-toggleable__label-arrow\">est: AdaBoostRegressor</label><div class=\"sk-toggleable__content\"><pre>AdaBoostRegressor(base_estimator=DecisionTreeRegressor(max_depth=5),\n",
       "                  n_estimators=10, random_state=1)</pre></div></div></div><div class=\"sk-parallel\"><div class=\"sk-parallel-item\"><div class=\"sk-item\"><div class=\"sk-serial\"><div class=\"sk-item\"><div class=\"sk-estimator sk-toggleable\"><input class=\"sk-toggleable__control sk-hidden--visually\" id=\"20b421a8-cbfa-4e16-8870-a1f8c0a9e344\" type=\"checkbox\" ><label for=\"20b421a8-cbfa-4e16-8870-a1f8c0a9e344\" class=\"sk-toggleable__label sk-toggleable__label-arrow\">DecisionTreeRegressor</label><div class=\"sk-toggleable__content\"><pre>DecisionTreeRegressor(max_depth=5)</pre></div></div></div></div></div></div></div></div></div></div></div></div>"
      ],
      "text/plain": [
       "Pipeline(steps=[('pre',\n",
       "                 ColumnTransformer(transformers=[('numerical',\n",
       "                                                  Pipeline(steps=[('imputeN',\n",
       "                                                                   SimpleImputer()),\n",
       "                                                                  ('scale',\n",
       "                                                                   StandardScaler())]),\n",
       "                                                  Index(['Ram', 'Weight', 'TouchScreen', 'Ips', 'ppi', 'Hdd', 'Ssd', 'Hybrid',\n",
       "       'Flash_Storage'],\n",
       "      dtype='object')),\n",
       "                                                 ('categorical',\n",
       "                                                  Pipeline(steps=[('imputeN',\n",
       "                                                                   SimpleImputer(strategy='most_frequent')),\n",
       "                                                                  ('encode',\n",
       "                                                                   OneHotEncoder(handle_unknown='ignore'))]),\n",
       "                                                  Index(['Company', 'TypeName', 'Cpu_Brand', 'Gpu_Brand', 'os'], dtype='object'))])),\n",
       "                ('est',\n",
       "                 AdaBoostRegressor(base_estimator=DecisionTreeRegressor(max_depth=5),\n",
       "                                   n_estimators=10, random_state=1))])"
      ]
     },
     "execution_count": 37,
     "metadata": {},
     "output_type": "execute_result"
    }
   ],
   "source": [
    "from sklearn import set_config\n",
    "set_config(display='diagram')\n",
    "pipelinemodel3.fit(X_train, y_train)"
   ]
  },
  {
   "cell_type": "code",
   "execution_count": 38,
   "id": "468aefa6",
   "metadata": {},
   "outputs": [],
   "source": [
    " ypred3 = pipelinemodel3.predict(X_test)"
   ]
  },
  {
   "cell_type": "code",
   "execution_count": 39,
   "id": "df0b9083",
   "metadata": {},
   "outputs": [
    {
     "name": "stdout",
     "output_type": "stream",
     "text": [
      "Mean Absolute Error: 13417.618642737472\n",
      "Mean Squared Error: 317039216.9585812\n",
      "Root Mean Squared Error: 17805.595102623814\n",
      "R-squared: 0.727753202822508\n"
     ]
    }
   ],
   "source": [
    "mae = mean_absolute_error(y_test, ypred3)\n",
    "mse = mean_squared_error(y_test, ypred3)\n",
    "rmse = np.sqrt(mse)\n",
    "r2 = r2_score(y_test, ypred3)\n",
    "\n",
    "print(\"Mean Absolute Error:\", mae)\n",
    "print(\"Mean Squared Error:\", mse)\n",
    "print(\"Root Mean Squared Error:\", rmse)\n",
    "print(\"R-squared:\", r2)"
   ]
  },
  {
   "cell_type": "code",
   "execution_count": 40,
   "id": "ecae5a38",
   "metadata": {},
   "outputs": [
    {
     "name": "stdout",
     "output_type": "stream",
     "text": [
      "0.839535963687277\n",
      "0.727753202822508\n"
     ]
    }
   ],
   "source": [
    "print(pipelinemodel3.score(X_train, y_train))\n",
    "print(pipelinemodel3.score(X_test, y_test))"
   ]
  },
  {
   "cell_type": "code",
   "execution_count": 41,
   "id": "58080de1",
   "metadata": {},
   "outputs": [],
   "source": [
    "import pickle\n",
    "\n",
    "pickle.dump(pipelinemodel1, open('model.pkl', 'wb'))"
   ]
  },
  {
   "cell_type": "code",
   "execution_count": null,
   "id": "faa2f376",
   "metadata": {},
   "outputs": [],
   "source": []
  }
 ],
 "metadata": {
  "kernelspec": {
   "display_name": "Python 3 (ipykernel)",
   "language": "python",
   "name": "python3"
  },
  "language_info": {
   "codemirror_mode": {
    "name": "ipython",
    "version": 3
   },
   "file_extension": ".py",
   "mimetype": "text/x-python",
   "name": "python",
   "nbconvert_exporter": "python",
   "pygments_lexer": "ipython3",
   "version": "3.9.12"
  }
 },
 "nbformat": 4,
 "nbformat_minor": 5
}
